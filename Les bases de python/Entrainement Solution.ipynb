{
 "cells": [
  {
   "cell_type": "markdown",
   "metadata": {},
   "source": [
    "**Créé par Gael AHOUANVOEDO (Fr Session Lead)**\n",
    "\n",
    "**🚀 Les Bases de Python 📊 ALX Udacity Data Analyst NanoDegree 📈**\n",
    "\n",
    "**08 Juillet 2022**"
   ]
  },
  {
   "cell_type": "markdown",
   "metadata": {},
   "source": [
    "# **<center><span style=\"color:#01c9e0;\">🚀 LES BASES DE PYTHON 🚀   </span></center>**\n",
    "## <center>Pour plus d'informations contctez moi sur Slack 👍</center>"
   ]
  },
  {
   "cell_type": "markdown",
   "metadata": {},
   "source": [
    "# **<center><span style=\"color:#01c9e0;\">Entrainement </span></center>**"
   ]
  },
  {
   "cell_type": "markdown",
   "metadata": {},
   "source": [
    "1 - Crée une variable entière nommée age qui stock l'age d'un individu"
   ]
  },
  {
   "cell_type": "code",
   "execution_count": 1,
   "metadata": {
    "id": "N7CU1yFB8g6M"
   },
   "outputs": [],
   "source": [
    "age = 18"
   ]
  },
  {
   "cell_type": "markdown",
   "metadata": {
    "id": "Nccn4WmL9Hfr"
   },
   "source": [
    "2 - Crée une variable décimale nommée taille qui stock la taille d'un individu\n"
   ]
  },
  {
   "cell_type": "code",
   "execution_count": 2,
   "metadata": {
    "id": "QHVn6aBR9WKn"
   },
   "outputs": [],
   "source": [
    "taille = 170.5"
   ]
  },
  {
   "cell_type": "markdown",
   "metadata": {
    "id": "HRPJ7QBX9XBK"
   },
   "source": [
    "3 - Crée une variable entière nommée nom qui stock le nom d'un individu"
   ]
  },
  {
   "cell_type": "code",
   "execution_count": 3,
   "metadata": {
    "id": "osamI92Z9dwY"
   },
   "outputs": [],
   "source": [
    "nom = 'MODOU'"
   ]
  },
  {
   "cell_type": "markdown",
   "metadata": {
    "id": "tIA3Xdxt9eSx"
   },
   "source": [
    "4 - Crée une variable booléene nommée détection qui stock les résultats d'un détecteur de mensonge"
   ]
  },
  {
   "cell_type": "code",
   "execution_count": 4,
   "metadata": {
    "id": "weQjLgra90Pw"
   },
   "outputs": [],
   "source": [
    "detection = True"
   ]
  },
  {
   "cell_type": "markdown",
   "metadata": {
    "id": "b48OsapZ90w1"
   },
   "source": [
    "5 - Crée un ensemble de variables qui stock les informations suivantes sur un étudiant : nom, prénom, age, taille, sexe, domicile, diplomé(Oui ou Non)."
   ]
  },
  {
   "cell_type": "code",
   "execution_count": 5,
   "metadata": {
    "id": "vRjNHXSL-ctr"
   },
   "outputs": [],
   "source": [
    "nom = 'MODOU'\n",
    "prenom = 'Diop'\n",
    "age = 18\n",
    "taille= 170.5\n",
    "domicile= 'Dakar'\n",
    "Diplome= True"
   ]
  },
  {
   "cell_type": "markdown",
   "metadata": {
    "id": "jfnIvnNfIUL3"
   },
   "source": [
    "6 - Fais la somme de ton age et de la valeur 22 et stock le résultat dans une nouvelle variable"
   ]
  },
  {
   "cell_type": "code",
   "execution_count": 6,
   "metadata": {
    "colab": {
     "base_uri": "https://localhost:8080/"
    },
    "id": "BtMtAd_4IkCz",
    "outputId": "5dea7bc0-8fc3-4299-de17-4f1e3f9c89bd"
   },
   "outputs": [
    {
     "name": "stdout",
     "output_type": "stream",
     "text": [
      "40\n"
     ]
    }
   ],
   "source": [
    "nouvelAge = age + 22\n",
    "print(nouvelAge)"
   ]
  },
  {
   "cell_type": "markdown",
   "metadata": {
    "id": "5Oy-GNqQIwDw"
   },
   "source": [
    "7 - Soustrait ton age de la nouvelle variable obtenue en 6"
   ]
  },
  {
   "cell_type": "code",
   "execution_count": 7,
   "metadata": {
    "colab": {
     "base_uri": "https://localhost:8080/"
    },
    "id": "l-J0cMY6I-uD",
    "outputId": "06408d19-1ede-4d5a-e322-bd30ae4ca404"
   },
   "outputs": [
    {
     "data": {
      "text/plain": [
       "22"
      ]
     },
     "execution_count": 7,
     "metadata": {},
     "output_type": "execute_result"
    }
   ],
   "source": [
    "nouvelAge-age"
   ]
  },
  {
   "cell_type": "markdown",
   "metadata": {
    "id": "tDAa8wR2I-BH"
   },
   "source": [
    "8 - Divise ton age par deux et stock le résultat dans une nouvelle variable"
   ]
  },
  {
   "cell_type": "code",
   "execution_count": 8,
   "metadata": {
    "colab": {
     "base_uri": "https://localhost:8080/"
    },
    "id": "MHFTDHvEJGCB",
    "outputId": "8a641ca3-028f-4da7-b9cf-927684cf7d6b"
   },
   "outputs": [
    {
     "name": "stdout",
     "output_type": "stream",
     "text": [
      "9.0\n"
     ]
    }
   ],
   "source": [
    "demiAge = age/2\n",
    "print(demiAge)"
   ]
  },
  {
   "cell_type": "markdown",
   "metadata": {
    "id": "vQUpwCgtJIPq"
   },
   "source": [
    "9 - Fais le produit de ton age et de la variable obtenue en 8"
   ]
  },
  {
   "cell_type": "code",
   "execution_count": 9,
   "metadata": {
    "colab": {
     "base_uri": "https://localhost:8080/"
    },
    "id": "CEY8kPzoJS9X",
    "outputId": "7bf13ab7-fc46-402b-a188-832a9df0f83e"
   },
   "outputs": [
    {
     "data": {
      "text/plain": [
       "162.0"
      ]
     },
     "execution_count": 9,
     "metadata": {},
     "output_type": "execute_result"
    }
   ],
   "source": [
    "age * demiAge"
   ]
  },
  {
   "cell_type": "markdown",
   "metadata": {
    "id": "UUJ2thugJUBv"
   },
   "source": [
    "10 - Ton age a la puissance 3 donne ?"
   ]
  },
  {
   "cell_type": "code",
   "execution_count": 10,
   "metadata": {
    "colab": {
     "base_uri": "https://localhost:8080/"
    },
    "id": "ya5xFavhJcHN",
    "outputId": "4bf3f7c4-d7eb-410b-c151-3c080f77c722"
   },
   "outputs": [
    {
     "data": {
      "text/plain": [
       "5832"
      ]
     },
     "execution_count": 10,
     "metadata": {},
     "output_type": "execute_result"
    }
   ],
   "source": [
    "age**3"
   ]
  },
  {
   "cell_type": "markdown",
   "metadata": {
    "id": "kf7Zh6aGLaAh"
   },
   "source": [
    "11 - Vérifie si les données 'Marc' et 'marc' sont égaux"
   ]
  },
  {
   "cell_type": "code",
   "execution_count": 11,
   "metadata": {
    "colab": {
     "base_uri": "https://localhost:8080/"
    },
    "id": "J2gGQDJILY4r",
    "outputId": "0ed83324-2311-4051-ec0b-0a7cfbac1ab6"
   },
   "outputs": [
    {
     "name": "stdout",
     "output_type": "stream",
     "text": [
      "Marc et marc ne sont pas égaux\n"
     ]
    }
   ],
   "source": [
    "if ('Marc'== 'marc'):\n",
    "  print('Marc et marc sont égaux')\n",
    "else:\n",
    "  print('Marc et marc ne sont pas égaux')  "
   ]
  },
  {
   "cell_type": "markdown",
   "metadata": {
    "id": "TXUhQfRNLpxl"
   },
   "source": [
    "12 - Vérifie si les données 14 et 14.0 sont inégaux"
   ]
  },
  {
   "cell_type": "code",
   "execution_count": 12,
   "metadata": {
    "colab": {
     "base_uri": "https://localhost:8080/"
    },
    "id": "3O8GE4VAL2Tx",
    "outputId": "2e24f2d0-5539-4313-f9e2-001d2100f727"
   },
   "outputs": [
    {
     "name": "stdout",
     "output_type": "stream",
     "text": [
      "14 et 14.0 ne sont pas inégaux\n"
     ]
    }
   ],
   "source": [
    "if (14!=14.0):\n",
    "  print('14 et 14.0 sont inégaux')\n",
    "else:\n",
    "  print('14 et 14.0 ne sont pas inégaux')  "
   ]
  },
  {
   "cell_type": "markdown",
   "metadata": {
    "id": "UsCgvGKJL2s5"
   },
   "source": [
    "13 - Compare la variable obtenue en 6 à celle en 8"
   ]
  },
  {
   "cell_type": "code",
   "execution_count": 13,
   "metadata": {
    "colab": {
     "base_uri": "https://localhost:8080/"
    },
    "id": "3ATTYxleMJM6",
    "outputId": "0e90612f-5613-4415-e78b-bf1572fef86f"
   },
   "outputs": [
    {
     "name": "stdout",
     "output_type": "stream",
     "text": [
      "40 est supérieur à 9.0 \n"
     ]
    }
   ],
   "source": [
    "if (nouvelAge>demiAge):\n",
    " print(f'{nouvelAge} est supérieur à {demiAge} ')\n",
    "elif(nouvelAge<demiAge):\n",
    "    print(f'{nouvelAge} est inférieur à {demiAge} ')\n",
    "else:\n",
    "    print(f'{nouvelAge} et {demiAge} sont égaux')\n"
   ]
  },
  {
   "cell_type": "markdown",
   "metadata": {
    "id": "AqTJopYlMUiz"
   },
   "source": [
    "14 - Crée une fonction qui nous donnera la possibilité de comparer deux variables"
   ]
  },
  {
   "cell_type": "code",
   "execution_count": 14,
   "metadata": {
    "colab": {
     "base_uri": "https://localhost:8080/"
    },
    "id": "aqQFaAIMMreS",
    "outputId": "bff886d2-135b-4310-db5f-b0d06d3a4efa"
   },
   "outputs": [
    {
     "name": "stdout",
     "output_type": "stream",
     "text": [
      "10 est inférieur à 12 \n"
     ]
    }
   ],
   "source": [
    "def comparaison (a,b):\n",
    "  if (a>b):\n",
    "    print(f'{a} est supérieur à {b} ')\n",
    "  elif(a<b):\n",
    "    print(f'{a} est inférieur à {b} ')\n",
    "  else:\n",
    "    print(f'{a} et {b} sont égaux')\n",
    "\n",
    "comparaison(10,12)"
   ]
  },
  {
   "cell_type": "markdown",
   "metadata": {
    "id": "v1zvv_LGMr9h"
   },
   "source": [
    "15 - Crée une fonction qui nous donnera le signe d'une variable"
   ]
  },
  {
   "cell_type": "code",
   "execution_count": 15,
   "metadata": {
    "colab": {
     "base_uri": "https://localhost:8080/"
    },
    "id": "OpInOmzFM75_",
    "outputId": "deaf9867-308f-41fb-e92c-76fbe1cedcb7"
   },
   "outputs": [
    {
     "name": "stdout",
     "output_type": "stream",
     "text": [
      "-15 est négatif\n"
     ]
    }
   ],
   "source": [
    "def signe (a):\n",
    "  if (a>0):\n",
    "    print(f'{a} est positif ')\n",
    "  elif(a<0):\n",
    "    print(f'{a} est négatif')\n",
    "  else:\n",
    "    print(f'{a}est nul')\n",
    "\n",
    "signe(-15)"
   ]
  },
  {
   "cell_type": "markdown",
   "metadata": {
    "id": "m_JTFbxZe8eL"
   },
   "source": [
    "16 - Crée une liste de 10 entiers"
   ]
  },
  {
   "cell_type": "code",
   "execution_count": 16,
   "metadata": {
    "id": "V7PooO3De7C5"
   },
   "outputs": [],
   "source": [
    "liste = [45,85,20,10,6,89,4,1,9,77]"
   ]
  },
  {
   "cell_type": "markdown",
   "metadata": {
    "id": "Y_tGxRulebYr"
   },
   "source": [
    "16 - Crée une fonction qui calcule la somme des 3 premiers éléments de la liste"
   ]
  },
  {
   "cell_type": "code",
   "execution_count": 17,
   "metadata": {
    "colab": {
     "base_uri": "https://localhost:8080/"
    },
    "id": "4nFc3RMXezQ_",
    "outputId": "f3003196-33f6-4b46-9850-e4310f5ae19f"
   },
   "outputs": [
    {
     "name": "stdout",
     "output_type": "stream",
     "text": [
      "150\n"
     ]
    }
   ],
   "source": [
    "def somme(liste):\n",
    "    return sum(liste[0:3])\n",
    "\n",
    "print(somme(liste))"
   ]
  },
  {
   "cell_type": "markdown",
   "metadata": {
    "id": "2mLksZ39ezp9"
   },
   "source": [
    "17 - Crée une foction qui calcule le produit des 3 derniers éléments de la liste"
   ]
  },
  {
   "cell_type": "code",
   "execution_count": 18,
   "metadata": {
    "colab": {
     "base_uri": "https://localhost:8080/"
    },
    "id": "MnlET4rBfF0b",
    "outputId": "4d458cde-3f61-496c-a105-056ee2387f6b"
   },
   "outputs": [
    {
     "name": "stdout",
     "output_type": "stream",
     "text": [
      "693\n"
     ]
    }
   ],
   "source": [
    "\n",
    "def produit(maliste):\n",
    "    resultat=1\n",
    "    for i in maliste[-3:]:\n",
    "      resultat = resultat * i\n",
    "    return resultat  \n",
    "print(produit(liste))"
   ]
  },
  {
   "cell_type": "markdown",
   "metadata": {
    "id": "4FMdaxoMfGPp"
   },
   "source": [
    "18 - Crée une fonction qui calcule la différence successive des éléments situés aux positions 4 à 8"
   ]
  },
  {
   "cell_type": "code",
   "execution_count": 19,
   "metadata": {
    "colab": {
     "base_uri": "https://localhost:8080/"
    },
    "id": "NPG7lGavfTnu",
    "outputId": "c48d3d03-64e8-493a-aedb-b6d2547eb495"
   },
   "outputs": [
    {
     "name": "stdout",
     "output_type": "stream",
     "text": [
      "-97\n"
     ]
    }
   ],
   "source": [
    "def soustraction(maliste):\n",
    "  resultat=liste[4] # je fixe l'element à la position 4\n",
    "  for i in maliste[5:9]: # Je parcours la liste de la 5ème position à la huitième\n",
    "    resultat = resultat - i\n",
    "  return resultat\n",
    "\n",
    "print(soustraction(liste))"
   ]
  },
  {
   "cell_type": "markdown",
   "metadata": {
    "id": "ydLrQR8nfUBI"
   },
   "source": [
    "19 - Ajoute 3 autres entiers à ta liste"
   ]
  },
  {
   "cell_type": "code",
   "execution_count": 20,
   "metadata": {
    "colab": {
     "base_uri": "https://localhost:8080/"
    },
    "id": "nwrRijnsfZzK",
    "outputId": "d9967c18-de89-4473-f39d-72efb68dc41d"
   },
   "outputs": [
    {
     "name": "stdout",
     "output_type": "stream",
     "text": [
      "[45, 85, 20, 10, 6, 89, 4, 1, 9, 77, 50, 80, 0]\n"
     ]
    }
   ],
   "source": [
    "liste.extend([50,80,0])\n",
    "print(liste)"
   ]
  },
  {
   "cell_type": "markdown",
   "metadata": {
    "id": "nslXvawVfaFf"
   },
   "source": [
    "20 - Trie la liste dans l'ordre croissant"
   ]
  },
  {
   "cell_type": "code",
   "execution_count": 21,
   "metadata": {
    "colab": {
     "base_uri": "https://localhost:8080/"
    },
    "id": "nccc1C3FffBo",
    "outputId": "26ca853e-8940-4299-c985-4f4715ba7967"
   },
   "outputs": [
    {
     "name": "stdout",
     "output_type": "stream",
     "text": [
      "[0, 1, 4, 6, 9, 10, 20, 45, 50, 77, 80, 85, 89]\n"
     ]
    }
   ],
   "source": [
    "liste.sort(reverse=False)\n",
    "print(liste)"
   ]
  },
  {
   "cell_type": "markdown",
   "metadata": {
    "id": "Oo35cE08ffWr"
   },
   "source": [
    "21 - Trie la liste dans l'ordre décroissant"
   ]
  },
  {
   "cell_type": "code",
   "execution_count": 22,
   "metadata": {
    "colab": {
     "base_uri": "https://localhost:8080/"
    },
    "id": "YJx2_DbPfjfw",
    "outputId": "983496e3-b98f-44f2-9dbe-28329a52d550"
   },
   "outputs": [
    {
     "name": "stdout",
     "output_type": "stream",
     "text": [
      "[89, 85, 80, 77, 50, 45, 20, 10, 9, 6, 4, 1, 0]\n"
     ]
    }
   ],
   "source": [
    "liste.sort(reverse=True)\n",
    "print(liste)"
   ]
  },
  {
   "cell_type": "markdown",
   "metadata": {
    "id": "l5gwsLWPYrow"
   },
   "source": [
    "22 - Crée une liste des pays suivants : Togo, Mali, Burkina et Congo"
   ]
  },
  {
   "cell_type": "code",
   "execution_count": 23,
   "metadata": {
    "id": "jqUA7FvrYygW"
   },
   "outputs": [],
   "source": [
    "pays = ['Togo','Mali','Burkina','Congo'] "
   ]
  },
  {
   "cell_type": "markdown",
   "metadata": {
    "id": "zq8uxQmoYy2-"
   },
   "source": [
    "23 - Vérifie si le Niger est dans la liste"
   ]
  },
  {
   "cell_type": "code",
   "execution_count": 24,
   "metadata": {
    "colab": {
     "base_uri": "https://localhost:8080/"
    },
    "id": "hr8P7zlsZrZf",
    "outputId": "2f71f183-46e5-4cac-d194-d507e33d5c06"
   },
   "outputs": [
    {
     "name": "stdout",
     "output_type": "stream",
     "text": [
      "Niger n'est pas dans la liste\n"
     ]
    }
   ],
   "source": [
    "if 'Niger' in pays:\n",
    "  print('Niger est dans la liste')\n",
    "else:\n",
    "  print('Niger n\\'est pas dans la liste')"
   ]
  },
  {
   "cell_type": "markdown",
   "metadata": {
    "id": "8_X2i5dMZrp5"
   },
   "source": [
    "24 - Crée un dictionnaire de recensement homme et femme d'une population"
   ]
  },
  {
   "cell_type": "code",
   "execution_count": 25,
   "metadata": {
    "colab": {
     "base_uri": "https://localhost:8080/"
    },
    "id": "pETwgF1RaPza",
    "outputId": "24216110-9b99-4085-e5c6-7486f15ac5fa"
   },
   "outputs": [
    {
     "name": "stdout",
     "output_type": "stream",
     "text": [
      "{'homme': 20, 'femme': 10}\n"
     ]
    }
   ],
   "source": [
    "population = { 'homme': 20, 'femme': 10}\n",
    "print(population)"
   ]
  },
  {
   "cell_type": "markdown",
   "metadata": {
    "id": "humHcqgLaQPS"
   },
   "source": [
    "25 - Ajoute a ce dictionaire une catégrorie non défini pour les informations manquantes"
   ]
  },
  {
   "cell_type": "code",
   "execution_count": 26,
   "metadata": {
    "colab": {
     "base_uri": "https://localhost:8080/"
    },
    "id": "hZYqSFUfaZO8",
    "outputId": "b00a75eb-e939-4bfe-92c4-0d43897bc621"
   },
   "outputs": [
    {
     "name": "stdout",
     "output_type": "stream",
     "text": [
      "{'homme': 20, 'femme': 10, 'indefinis': 5}\n"
     ]
    }
   ],
   "source": [
    "population[indefinis]=5\n",
    "print(population)"
   ]
  },
  {
   "cell_type": "markdown",
   "metadata": {
    "id": "ltjfKMYLaeGT"
   },
   "source": [
    "26 - Utilise une boucle for qui retournera a la fois les clefs et les valeurs"
   ]
  },
  {
   "cell_type": "code",
   "execution_count": 27,
   "metadata": {
    "colab": {
     "base_uri": "https://localhost:8080/"
    },
    "id": "xs4CfvBQarLp",
    "outputId": "c82bb1a1-3e1f-4e9d-83a0-7345bde8f57a"
   },
   "outputs": [
    {
     "name": "stdout",
     "output_type": "stream",
     "text": [
      "homme 20\n",
      "femme 10\n",
      "indefinis 5\n"
     ]
    }
   ],
   "source": [
    "for clef, valeur in population.items():\n",
    "  print(clef,valeur)"
   ]
  }
 ],
 "metadata": {
  "colab": {
   "collapsed_sections": [],
   "name": "Florian - Python",
   "provenance": []
  },
  "kernelspec": {
   "display_name": "Python 3 (ipykernel)",
   "language": "python",
   "name": "python3"
  },
  "language_info": {
   "codemirror_mode": {
    "name": "ipython",
    "version": 3
   },
   "file_extension": ".py",
   "mimetype": "text/x-python",
   "name": "python",
   "nbconvert_exporter": "python",
   "pygments_lexer": "ipython3",
   "version": "3.9.7"
  }
 },
 "nbformat": 4,
 "nbformat_minor": 4
}
