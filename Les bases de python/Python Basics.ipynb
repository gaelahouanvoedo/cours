{
 "cells": [
  {
   "cell_type": "markdown",
   "id": "d00ec675",
   "metadata": {},
   "source": [
    "**Created by Gael AHOUANVOEDO (Fr Session Lead)**\n",
    "\n",
    "**🚀 Python Basics 📊 ALX Udacity Data Analyst NanoDegree 📈**\n",
    "\n",
    "**July 08, 2022**"
   ]
  },
  {
   "cell_type": "markdown",
   "id": "5752d771",
   "metadata": {},
   "source": [
    "# **<center><span style=\"color:#01c9e0;\">🚀 PYTHON BASICS 🚀 </span></center>**\n",
    "## <center>For more information contact me on Slack 👍</center>"
   ]
  },
  {
   "cell_type": "markdown",
   "id": "8ca2e992",
   "metadata": {},
   "source": [
    "# **<span style=\"color:#01c9e0;\">Table of Contents</span>**\n",
    "<a id=\"knock\"></a>\n",
    "- [1. Variables and Functions](#1)\n",
    "- [2. Control Structures](#2)\n",
    "- [3. Data Structures](#3)\n",
    "- [4. Built-in Functions](#4)\n",
    "- [5. Base Packages](#5)\n",
    "- [6. Exercises](#6)"
   ]
  },
  {
   "cell_type": "markdown",
   "id": "a30d773b",
   "metadata": {},
   "source": [
    "<a href=\"#toc\" role=\"button\" aria-pressed=\"true\" >⬆️Back to Table of Contents ⬆️</a>"
   ]
  },
  {
   "cell_type": "markdown",
   "id": "81772765",
   "metadata": {},
   "source": [
    "<a id=\"1\"></a>\n",
    "# **<center><span style=\"color:#01c9e0;\">1. Variables and Functions </span></center>**"
   ]
  },
  {
   "cell_type": "markdown",
   "id": "053e08a6",
   "metadata": {},
   "source": [
    "## **<span style=\"color:#1c4587;\">Variables</span>**"
   ]
  },
  {
   "cell_type": "markdown",
   "id": "e102eb85",
   "metadata": {
    "colab_type": "text",
    "id": "kxKbJy3zUGqq"
   },
   "source": [
    "There are 4 main types of variables\n",
    "- `int` (integer)\n",
    "- `float` (decimal number)\n",
    "- `string` (character string)\n",
    "- `bool` (boolean)"
   ]
  },
  {
   "cell_type": "code",
   "execution_count": 1,
   "id": "52dd51bb",
   "metadata": {
    "colab": {},
    "colab_type": "code",
    "id": "sB5Lw22eThZs",
    "scrolled": true
   },
   "outputs": [],
   "source": [
    "x = 5\n",
    "y = 4.4\n",
    "name = 'Kossi'\n",
    "z=True"
   ]
  },
  {
   "cell_type": "code",
   "execution_count": 2,
   "id": "21c6526f",
   "metadata": {},
   "outputs": [
    {
     "name": "stdout",
     "output_type": "stream",
     "text": [
      "5 --> int\n",
      "4.4 --> float\n",
      "Kossi --> string\n",
      "True --> Bool \n"
     ]
    }
   ],
   "source": [
    "print(x, '--> int')\n",
    "print(y, '--> float')\n",
    "print(name, '--> string')\n",
    "print(z, '--> Bool ')"
   ]
  },
  {
   "cell_type": "markdown",
   "id": "20718546",
   "metadata": {},
   "source": [
    "## **<span style=\"color:#1c4587;\">Arithmetic Operations </span>**"
   ]
  },
  {
   "cell_type": "markdown",
   "id": "f34d77ed",
   "metadata": {
    "colab_type": "text",
    "id": "kxKbJy3zUGqq"
   },
   "source": [
    "Symbols for arithmetic operations in python are the same as with other leading languages:\n",
    "- `+` (addition)\n",
    "- `-` (subtraction)\n",
    "- `/` (divide)\n",
    "- `*` (multiply)"
   ]
  },
  {
   "cell_type": "code",
   "execution_count": 3,
   "id": "ed8044b9",
   "metadata": {
    "colab": {
     "base_uri": "https://localhost:8080/",
     "height": 119
    },
    "colab_type": "code",
    "id": "gvy__Ni0VLDg",
    "outputId": "108dc562-5cdf-493f-f804-572bb84cff36"
   },
   "outputs": [
    {
     "name": "stdout",
     "output_type": "stream",
     "text": [
      "x + y = 9.4\n",
      "x - y = 0.5999999999999996\n",
      "x / y = 1.1363636363636362\n",
      "x * y = 22.0\n"
     ]
    }
   ],
   "source": [
    "print('x + y =', x + y)\n",
    "print('x - y =', x - y)\n",
    "print('x / y =', x / y)\n",
    "print('x * y =', x * y)"
   ]
  },
  {
   "cell_type": "markdown",
   "id": "3a42d970",
   "metadata": {},
   "source": [
    "## **<span style=\"color:#1c4587;\">Comparison operations </span>**"
   ]
  },
  {
   "cell_type": "markdown",
   "id": "ac6079a1",
   "metadata": {
    "colab_type": "text",
    "id": "kxKbJy3zUGqq"
   },
   "source": [
    "The symbols of the comparison operations on python are the same as with the other flagship languages:\n",
    "- `==` (equality)\n",
    "- `!=` (inequality)\n",
    "- `<=` (less than or equal)\n",
    "- `>=` (greater than or equal)"
   ]
  },
  {
   "cell_type": "code",
   "execution_count": 4,
   "id": "e4c80faf",
   "metadata": {
    "colab": {
     "base_uri": "https://localhost:8080/",
     "height": 85
    },
    "colab_type": "code",
    "id": "osU_peQiV5QH",
    "outputId": "b5e7fe5a-24da-4c26-e26d-fdb680e49f1d"
   },
   "outputs": [
    {
     "name": "stdout",
     "output_type": "stream",
     "text": [
      "equality: False\n",
      "inequality: True\n",
      "less than or equal: False\n",
      "greater than or equal: True\n"
     ]
    }
   ],
   "source": [
    "print('equality:', x == y)\n",
    "print('inequality:', x != y)\n",
    "print('less than or equal:', x <= y)\n",
    "print('greater than or equal:', x >= y)"
   ]
  },
  {
   "cell_type": "markdown",
   "id": "d04c34ec",
   "metadata": {},
   "source": [
    "## **<span style=\"color:#1c4587;\">Logical Operations</span>**"
   ]
  },
  {
   "cell_type": "markdown",
   "id": "3fa4220a",
   "metadata": {
    "colab_type": "text",
    "id": "kxKbJy3zUGqq"
   },
   "source": [
    "The symbols for logical operations in python are the same as with other leading languages:\n",
    "- `and` (AND)\n",
    "- `or` (OR)"
   ]
  },
  {
   "cell_type": "code",
   "execution_count": 5,
   "id": "97f7c6d5",
   "metadata": {
    "colab": {
     "base_uri": "https://localhost:8080/",
     "height": 68
    },
    "colab_type": "code",
    "id": "1s4g7tZxWpm0",
    "outputId": "a9487664-4832-4e20-db7f-801835d4f111"
   },
   "outputs": [
    {
     "name": "stdout",
     "output_type": "stream",
     "text": [
      "AND: False\n",
      "OR: True\n"
     ]
    }
   ],
   "source": [
    "print('AND:', False and True)\n",
    "print('OR:', False or True)"
   ]
  },
  {
   "cell_type": "markdown",
   "id": "6e674ddc",
   "metadata": {
    "colab_type": "text",
    "id": "z5QvguMPYVgQ"
   },
   "source": [
    "Note: The comparison and logic operations used together allow to build basic algorithmic structures (if/esle, while, ...)"
   ]
  },
  {
   "cell_type": "markdown",
   "id": "8c1356a5",
   "metadata": {},
   "source": [
    "## **<span style=\"color:#1c4587;\">Functions </span>**"
   ]
  },
  {
   "cell_type": "markdown",
   "id": "e6e1838a",
   "metadata": {
    "colab_type": "text",
    "id": "YjgH-JfFajmb"
   },
   "source": [
    "The best way to create a function is to use the following structure: `def`\n",
    "\n",
    "A function has a name, takes inputs (arguments) and transforms them to return a result"
   ]
  },
  {
   "cell_type": "code",
   "execution_count": 6,
   "id": "7f23fbdc",
   "metadata": {
    "colab": {
     "base_uri": "https://localhost:8080/",
     "height": 34
    },
    "colab_type": "code",
    "id": "kgDxdfuIadt1",
    "outputId": "32a0469a-d856-4206-931c-b013ae387720"
   },
   "outputs": [
    {
     "data": {
      "text/plain": [
       "15"
      ]
     },
     "execution_count": 6,
     "metadata": {},
     "output_type": "execute_result"
    }
   ],
   "source": [
    "def function_name(argument_1, argument_2):\n",
    "    result = argument_1 + argument_2\n",
    "    return result\n",
    "\n",
    "function_name(10, 5)"
   ]
  },
  {
   "cell_type": "code",
   "execution_count": 4,
   "id": "8bce3324",
   "metadata": {
    "colab": {
     "base_uri": "https://localhost:8080/",
     "height": 34
    },
    "colab_type": "code",
    "id": "rB-yIhFxbUPa",
    "outputId": "77716e9a-5364-4be9-dec0-c8c750ac0f46"
   },
   "outputs": [
    {
     "ename": "IndentationError",
     "evalue": "unindent does not match any outer indentation level (<tokenize>, line 5)",
     "output_type": "error",
     "traceback": [
      "\u001b[1;36m  File \u001b[1;32m\"<tokenize>\"\u001b[1;36m, line \u001b[1;32m5\u001b[0m\n\u001b[1;33m    return energy\u001b[0m\n\u001b[1;37m    ^\u001b[0m\n\u001b[1;31mIndentationError\u001b[0m\u001b[1;31m:\u001b[0m unindent does not match any outer indentation level\n"
     ]
    }
   ],
   "source": [
    "# Concrete example: function that calculates the potential energy of a body\n",
    "\n",
    "def e_potential(mass, height, g=9.81):\n",
    "   energy = mass * height * g\n",
    "   return energy\n",
    "\n",
    "# here g has a default value so we don't have to give it a value\n",
    "e_potential(mass=10, height=10)"
   ]
  },
  {
   "cell_type": "markdown",
   "id": "54fe5266",
   "metadata": {},
   "source": [
    "<a href=\"#toc\" role=\"button\" aria-pressed=\"true\" >⬆️Back to Table of Contents ⬆️</a>"
   ]
  },
  {
   "cell_type": "markdown",
   "id": "b64c7827",
   "metadata": {},
   "source": [
    "<a id=\"2\"></a>\n",
    "# **<center><span style=\"color:#01c9e0;\">2. Control Structures </span></center>**"
   ]
  },
  {
   "cell_type": "markdown",
   "id": "0cd584ff",
   "metadata": {},
   "source": [
    "## **<span style=\"color:#1c4587;\">If/Else Alternatives</span>**"
   ]
  },
  {
   "cell_type": "markdown",
   "id": "5be58971",
   "metadata": {
    "colab_type": "text",
    "id": "GCRRr0YTdpRc"
   },
   "source": [
    "The `if/else` structure allows you to test a sequence of alternatives. If a condition is met, then the instructions that follow it are executed and the control structure is stopped, otherwise the next condition is tested."
   ]
  },
  {
   "cell_type": "code",
   "execution_count": 5,
   "id": "12a3a736",
   "metadata": {
    "colab": {},
    "colab_type": "code",
    "id": "36oymtgkdebr"
   },
   "outputs": [],
   "source": [
    "def sign_test(value):\n",
    "   if value < 0:\n",
    "     print('negative')\n",
    "   elif value == 0:\n",
    "     print('null')\n",
    "   else:\n",
    "     print('positive')"
   ]
  },
  {
   "cell_type": "code",
   "execution_count": 9,
   "id": "a489da2c",
   "metadata": {
    "colab": {
     "base_uri": "https://localhost:8080/",
     "height": 34
    },
    "colab_type": "code",
    "id": "eCbpqCywfazE",
    "outputId": "5f69f649-4092-473e-ed5a-2f97203b2752"
   },
   "outputs": [
    {
     "name": "stdout",
     "output_type": "stream",
     "text": [
      "null\n"
     ]
    }
   ],
   "source": [
    "sign_test(0)"
   ]
  },
  {
   "cell_type": "markdown",
   "id": "57c3eb3f",
   "metadata": {
    "colab_type": "text",
    "id": "CaHzgd9lfq5o"
   },
   "source": [
    "Important note: A condition is met if and only if it corresponds to the **boolean True** result."
   ]
  },
  {
   "cell_type": "markdown",
   "id": "2be8ed21",
   "metadata": {
    "colab_type": "text",
    "id": "EPk6O53vhZkW"
   },
   "source": [
    "This makes it possible to develop algorithms with mixtures of Logical operations and comparison operations. For example: *if the weather is nice and it's hot, then I'll go swimming*"
   ]
  },
  {
   "cell_type": "code",
   "execution_count": 10,
   "id": "972815a5",
   "metadata": {
    "colab": {
     "base_uri": "https://localhost:8080/",
     "height": 34
    },
    "colab_type": "code",
    "id": "52NzMgaegVhP",
    "outputId": "e8996961-8d44-4da2-d7ae-45c8798dd543"
   },
   "outputs": [
    {
     "name": "stdout",
     "output_type": "stream",
     "text": [
      "x and y are positive\n"
     ]
    }
   ],
   "source": [
    "x = 3\n",
    "y = 4\n",
    "if (x>0) and (y>0):\n",
    "   print('x and y are positive')\n",
    "else:\n",
    "   print('x and y are not both positive')"
   ]
  },
  {
   "cell_type": "markdown",
   "id": "46dd62fe",
   "metadata": {},
   "source": [
    "## **<span style=\"color:#1c4587;\">For Loop </span>**"
   ]
  },
  {
   "cell_type": "markdown",
   "id": "dd904ff9",
   "metadata": {
    "colab_type": "text",
    "id": "X7ySgVEwhbFd"
   },
   "source": [
    "A `for` loop allows you to create iterative algorithms (which perform a certain task several times in a row). For this, the loop goes through all the elements of an object called **iterable**. It can be a list, a dictionary, a range, a numpy array, or many other objects..."
   ]
  },
  {
   "cell_type": "code",
   "execution_count": 11,
   "id": "58bf2627",
   "metadata": {
    "colab": {
     "base_uri": "https://localhost:8080/",
     "height": 187
    },
    "colab_type": "code",
    "id": "4O5B4LHbhMze",
    "outputId": "6c890d52-f5fe-4ed7-e674-314687a88d70"
   },
   "outputs": [
    {
     "name": "stdout",
     "output_type": "stream",
     "text": [
      "0\n",
      "1\n",
      "2\n",
      "3\n",
      "4\n"
     ]
    }
   ],
   "source": [
    "# range(start, end, step) is a very useful python built-in function that returns an iterable.\n",
    "for i in range(0, 5):\n",
    "   print(i)"
   ]
  },
  {
   "cell_type": "code",
   "execution_count": 12,
   "id": "a1149903",
   "metadata": {
    "colab": {
     "base_uri": "https://localhost:8080/",
     "height": 357
    },
    "colab_type": "code",
    "id": "aZSpQmXRjJGx",
    "outputId": "87cbbc20-302d-42b3-aa70-c2f8ef4e8ef9"
   },
   "outputs": [
    {
     "name": "stdout",
     "output_type": "stream",
     "text": [
      "-5\n",
      "negative\n",
      "-3\n",
      "negative\n",
      "-1\n",
      "negative\n",
      "1\n",
      "positive\n",
      "3\n",
      "positive\n"
     ]
    }
   ],
   "source": [
    "# we can have fun combining this loop with our function from earlier.\n",
    "for i in range(-5,5,2):\n",
    "   print(i)\n",
    "   sign_test(i)"
   ]
  },
  {
   "cell_type": "markdown",
   "id": "200b338c",
   "metadata": {},
   "source": [
    "<a href=\"#toc\" role=\"button\" aria-pressed=\"true\" >⬆️Back to Table of Contents ⬆️</a>"
   ]
  },
  {
   "cell_type": "markdown",
   "id": "331a2c09",
   "metadata": {},
   "source": [
    "<a id=\"3\"></a>\n",
    "# **<center><span style=\"color:#01c9e0;\">3. Data structures </span></center>**"
   ]
  },
  {
   "cell_type": "markdown",
   "id": "19c2af73",
   "metadata": {},
   "source": [
    "## **<span style=\"color:#1c4587;\">Creating Lists and Tuples</span>**"
   ]
  },
  {
   "cell_type": "markdown",
   "id": "c94dd1b5",
   "metadata": {
    "colab_type": "text",
    "id": "GYmh0u3Gp2vR"
   },
   "source": [
    "A `list` or a `tuple` can contain any type of value (int, float, bool, string). They are said to be heterogeneous structures.\n",
    "\n",
    "The difference between the 2 is that a list is **mutable** while a tuple is not (you can't change it after it's created)"
   ]
  },
  {
   "cell_type": "code",
   "execution_count": 6,
   "id": "0baa7656",
   "metadata": {
    "colab": {},
    "colab_type": "code",
    "id": "lMrHIDBro9Ul"
   },
   "outputs": [],
   "source": [
    "# Lists\n",
    "list_1 = [5, 10, 15, 20, 25, 30]\n",
    "cities = ['Cotonou', 'Lomé', 'Abidjan', 'Dakar']\n",
    "nested_list = [list_1, cities] # a list can even contain lists! This is called a nested list"
   ]
  },
  {
   "cell_type": "code",
   "execution_count": 14,
   "id": "d4a2e7ec",
   "metadata": {
    "colab": {
     "base_uri": "https://localhost:8080/",
     "height": 34
    },
    "colab_type": "code",
    "id": "6fmme6vsq9mp",
    "outputId": "9eb5c9e1-ecef-4560-8e22-318e683a3d9d"
   },
   "outputs": [
    {
     "name": "stdout",
     "output_type": "stream",
     "text": [
      "[5, 10, 15, 20, 25, 30]\n",
      "['Cotonou', 'Lomé', 'Abidjan', 'Dakar']\n",
      "[[5, 10, 15, 20, 25, 30], ['Cotonou', 'Lomé', 'Abidjan', 'Dakar']]\n"
     ]
    }
   ],
   "source": [
    "print(list_1)\n",
    "print(cities)\n",
    "print(nested_list)"
   ]
  },
  {
   "cell_type": "markdown",
   "id": "9d300cc6",
   "metadata": {},
   "source": [
    "## **<span style=\"color:#1c4587;\">Indexing and Slicing</span>**"
   ]
  },
  {
   "cell_type": "markdown",
   "id": "6864d87d",
   "metadata": {
    "colab_type": "text",
    "id": "if5Og4U5rFJT"
   },
   "source": [
    "In a sequence, each element is arranged according to an **index** (the first index being index 0)\n",
    "\n",
    "To access an element of a list or a tuple, we use a technique called **Indexing**\n",
    "\n",
    "To access several elements of a list or a tuple, we use a technique called **Slicing**"
   ]
  },
  {
   "cell_type": "code",
   "execution_count": 15,
   "id": "94a7bf0e",
   "metadata": {
    "colab": {
     "base_uri": "https://localhost:8080/",
     "height": 85
    },
    "colab_type": "code",
    "id": "J1EuMMrSq_X2",
    "outputId": "a642c0a2-9906-4478-f0e1-3c766f32dbd8"
   },
   "outputs": [
    {
     "name": "stdout",
     "output_type": "stream",
     "text": [
      "complete sequence: ['Cotonou', 'Lomé', 'Abidjan', 'Dakar']\n",
      "index 0: Cotonou\n",
      "index 1: Lomé\n",
      "last index (-1): Dakar\n"
     ]
    }
   ],
   "source": [
    "# INDEXING\n",
    "print('complete sequence:', cities)\n",
    "print('index 0:', cities[0])\n",
    "print('index 1:', cities[1])\n",
    "print('last index (-1):', cities[-1])"
   ]
  },
  {
   "cell_type": "code",
   "execution_count": 16,
   "id": "18ce9be5",
   "metadata": {
    "colab": {
     "base_uri": "https://localhost:8080/",
     "height": 85
    },
    "colab_type": "code",
    "id": "8rmbVqLNsHIy",
    "outputId": "39855646-5c98-4c97-cac4-fec5c2b9428d"
   },
   "outputs": [
    {
     "name": "stdout",
     "output_type": "stream",
     "text": [
      "complete sequence: ['Cotonou', 'Lomé', 'Abidjan', 'Dakar']\n",
      "index 0-2: ['Cotonou', 'Lomé', 'Abidjan']\n",
      "index 1-2: ['Lomé', 'Abidjan']\n",
      "reverse order: ['Dakar', 'Abidjan', 'Lomé', 'Cotonou']\n"
     ]
    }
   ],
   "source": [
    "# SLICING [start (included): end (excluded): step]\n",
    "print('complete sequence:', cities)\n",
    "print('index 0-2:', cities[0:3])\n",
    "print('index 1-2:', cities[1:3])\n",
    "print('reverse order:', cities[::-1])"
   ]
  },
  {
   "cell_type": "code",
   "execution_count": 17,
   "id": "9cd25bbf",
   "metadata": {},
   "outputs": [
    {
     "name": "stdout",
     "output_type": "stream",
     "text": [
      "['Cotonou', 'Lomé', 'Abidjan', 'Dakar']\n"
     ]
    }
   ],
   "source": [
    "cities = ['Cotonou', 'Lomé', 'Abidjan', 'Dakar'] # initial list\n",
    "print(cities)"
   ]
  },
  {
   "cell_type": "code",
   "execution_count": null,
   "id": "882cb62d",
   "metadata": {},
   "outputs": [],
   "source": [
    "object_name.function() / funtion(object_name)"
   ]
  },
  {
   "cell_type": "code",
   "execution_count": 18,
   "id": "567da065",
   "metadata": {},
   "outputs": [
    {
     "name": "stdout",
     "output_type": "stream",
     "text": [
      "['Cotonou', 'Lomé', 'Abidjan', 'Dakar', 'Bamako']\n"
     ]
    }
   ],
   "source": [
    "cities.append('Bamako') # Add an element at the end of the list\n",
    "print(cities)"
   ]
  },
  {
   "cell_type": "code",
   "execution_count": 19,
   "id": "bf3e07fe",
   "metadata": {},
   "outputs": [
    {
     "name": "stdout",
     "output_type": "stream",
     "text": [
      "['Cotonou', 'Lomé', 'Conakry', 'Abidjan', 'Dakar', 'Bamako']\n"
     ]
    }
   ],
   "source": [
    "cities.insert(2, 'Conakry') # Add an element at the given index\n",
    "print(cities)"
   ]
  },
  {
   "cell_type": "code",
   "execution_count": 20,
   "id": "4f0f716e",
   "metadata": {},
   "outputs": [
    {
     "name": "stdout",
     "output_type": "stream",
     "text": [
      "['Cotonou', 'Lomé', 'Conakry', 'Abidjan', 'Dakar', 'Bamako', 'Kinshasa', 'Yaoundé']\n"
     ]
    }
   ],
   "source": [
    "cities.extend(['Kinshasa', 'Yaoundé']) # Add a list at the end of our list\n",
    "print(cities)"
   ]
  },
  {
   "cell_type": "code",
   "execution_count": 21,
   "id": "a268e03a",
   "metadata": {},
   "outputs": [
    {
     "name": "stdout",
     "output_type": "stream",
     "text": [
      "length of the list: 8\n"
     ]
    }
   ],
   "source": [
    "print('length of the list:', len(cities)) #displays the length of the list"
   ]
  },
  {
   "cell_type": "code",
   "execution_count": 22,
   "id": "5e56d0ba",
   "metadata": {},
   "outputs": [
    {
     "name": "stdout",
     "output_type": "stream",
     "text": [
      "['Abidjan', 'Bamako', 'Conakry', 'Cotonou', 'Dakar', 'Kinshasa', 'Lomé', 'Yaoundé']\n"
     ]
    }
   ],
   "source": [
    "cities.sort(reverse=False) # sort list alphabetically/numerically\n",
    "print(cities)"
   ]
  },
  {
   "cell_type": "code",
   "execution_count": 23,
   "id": "a6faa664",
   "metadata": {},
   "outputs": [
    {
     "name": "stdout",
     "output_type": "stream",
     "text": [
      "['Abidjan', 'Bamako', 'Conakry', 'Cotonou', 'Dakar', 'Kinshasa', 'Lomé', 'Yaoundé', 'Bamako']\n"
     ]
    }
   ],
   "source": [
    "cities.append('Bamako') # Add an element at the end of the list\n",
    "print(cities)"
   ]
  },
  {
   "cell_type": "code",
   "execution_count": 24,
   "id": "00aa459a",
   "metadata": {},
   "outputs": [
    {
     "name": "stdout",
     "output_type": "stream",
     "text": [
      "2\n"
     ]
    }
   ],
   "source": [
    "print(cities.count('Bamako')) # count the number of times an item appears in the list"
   ]
  },
  {
   "cell_type": "markdown",
   "id": "688e293b",
   "metadata": {
    "colab_type": "text",
    "id": "mUhBRJwqvg1p"
   },
   "source": [
    "Lists and tuples work in harmony with **if/else** and **For** control structures"
   ]
  },
  {
   "cell_type": "code",
   "execution_count": 25,
   "id": "27e75fcb",
   "metadata": {
    "colab": {
     "base_uri": "https://localhost:8080/",
     "height": 34
    },
    "colab_type": "code",
    "id": "XjHrv7HjuFCE",
    "outputId": "117ddbc4-cfa8-4de5-bdc2-6e8417604a5c"
   },
   "outputs": [
    {
     "name": "stdout",
     "output_type": "stream",
     "text": [
      "no\n"
     ]
    }
   ],
   "source": [
    "if 'Paris' in cities:\n",
    "   print('yes')\n",
    "else:\n",
    "   print('no')"
   ]
  },
  {
   "cell_type": "code",
   "execution_count": 26,
   "id": "4cbbfb56",
   "metadata": {
    "colab": {
     "base_uri": "https://localhost:8080/",
     "height": 153
    },
    "colab_type": "code",
    "id": "HHSiF8g5vyEh",
    "outputId": "34f919cf-1d0e-43cb-9bc4-19281d9d8872"
   },
   "outputs": [
    {
     "name": "stdout",
     "output_type": "stream",
     "text": [
      "Abidjan\n",
      "Bamako\n",
      "Conakry\n",
      "Cotonou\n",
      "Dakar\n",
      "Kinshasa\n",
      "Lomé\n",
      "Yaoundé\n",
      "Bamako\n"
     ]
    }
   ],
   "source": [
    "for element in cities:\n",
    "   print(element)"
   ]
  },
  {
   "cell_type": "markdown",
   "id": "ffd7f295",
   "metadata": {
    "colab_type": "text",
    "id": "z8o9svv2v88a"
   },
   "source": [
    "The **enumerate** function is very useful for outputting both the elements of a list and their **indexes**."
   ]
  },
  {
   "cell_type": "code",
   "execution_count": 27,
   "id": "7a58828e",
   "metadata": {
    "colab": {
     "base_uri": "https://localhost:8080/",
     "height": 153
    },
    "colab_type": "code",
    "id": "w9t8cMPzv1Ug",
    "outputId": "579039b4-91a6-4f8a-bfcd-e9d2adee574d"
   },
   "outputs": [
    {
     "name": "stdout",
     "output_type": "stream",
     "text": [
      "0 Abidjan\n",
      "1 Bamako\n",
      "2 Conakry\n",
      "3 Cotonou\n",
      "4 Dakar\n",
      "5 Kinshasa\n",
      "6 Lomé\n",
      "7 Yaoundé\n",
      "8 Bamako\n"
     ]
    }
   ],
   "source": [
    "for index, element in enumerate(cities):\n",
    "   print(index, element)"
   ]
  },
  {
   "cell_type": "markdown",
   "id": "1997e0fd",
   "metadata": {},
   "source": [
    "## **<span style=\"color:#1c4587;\">Dictionaries</span>**"
   ]
  },
  {
   "cell_type": "markdown",
   "id": "7bfcdd0b",
   "metadata": {
    "colab_type": "text",
    "id": "joYmh7TZyu-I"
   },
   "source": [
    "`Dictionaries` are **unordered** control structures, ie the values they contain are not ordered according to an index, but according to a **unique key**.\n",
    "\n",
    "A perfect use of dictionaries is to group \"variables\" together in a single container. (these variables are not real variables, but **keys**).\n",
    "\n",
    "*We can for example create an inventory dictionary that groups together several products (the keys) and their quantities (the values)*"
   ]
  },
  {
   "cell_type": "code",
   "execution_count": 28,
   "id": "04e35e46",
   "metadata": {
    "colab": {},
    "colab_type": "code",
    "id": "IxAbYNGyypdD"
   },
   "outputs": [],
   "source": [
    "inventory = {'apples': 100,\n",
    "               'bananas': 80,\n",
    "               'pears': 120}"
   ]
  },
  {
   "cell_type": "code",
   "execution_count": 29,
   "id": "9a3a7285",
   "metadata": {
    "colab": {
     "base_uri": "https://localhost:8080/",
     "height": 34
    },
    "colab_type": "code",
    "id": "KIMrwYSF0WOx",
    "outputId": "c44e65a3-4efa-4d94-e0a3-c64872120894"
   },
   "outputs": [
    {
     "data": {
      "text/plain": [
       "dict_values([100, 80, 120])"
      ]
     },
     "execution_count": 29,
     "metadata": {},
     "output_type": "execute_result"
    }
   ],
   "source": [
    "inventory.values()"
   ]
  },
  {
   "cell_type": "code",
   "execution_count": 30,
   "id": "4f47765a",
   "metadata": {
    "colab": {
     "base_uri": "https://localhost:8080/",
     "height": 34
    },
    "colab_type": "code",
    "id": "kiVf5n2J0Yxa",
    "outputId": "b829279b-d0cd-4df5-c4a1-57b1b5d1ea35"
   },
   "outputs": [
    {
     "data": {
      "text/plain": [
       "dict_keys(['apples', 'bananas', 'pears'])"
      ]
     },
     "execution_count": 30,
     "metadata": {},
     "output_type": "execute_result"
    }
   ],
   "source": [
    "inventory.keys()"
   ]
  },
  {
   "cell_type": "code",
   "execution_count": 31,
   "id": "2a356a98",
   "metadata": {
    "colab": {
     "base_uri": "https://localhost:8080/",
     "height": 163
    },
    "colab_type": "code",
    "id": "buwMNYZ40agi",
    "outputId": "fef58cfb-e270-45f8-9d85-386d36ca86cf"
   },
   "outputs": [
    {
     "data": {
      "text/plain": [
       "3"
      ]
     },
     "execution_count": 31,
     "metadata": {},
     "output_type": "execute_result"
    }
   ],
   "source": [
    "len(inventory)"
   ]
  },
  {
   "cell_type": "markdown",
   "id": "ee44d6f6",
   "metadata": {
    "colab_type": "text",
    "id": "P3tAq8GJ0idV"
   },
   "source": [
    "Here is how to add a key/value association in our dictionary (be careful if the key already exists it is replaced)"
   ]
  },
  {
   "cell_type": "code",
   "execution_count": 32,
   "id": "80b2baab",
   "metadata": {
    "colab": {
     "base_uri": "https://localhost:8080/",
     "height": 34
    },
    "colab_type": "code",
    "id": "0cPXXWkY0eCZ",
    "outputId": "da888bd9-4c15-499c-c171-306d2dafb9eb"
   },
   "outputs": [
    {
     "name": "stdout",
     "output_type": "stream",
     "text": [
      "{'apples': 100, 'bananas': 80, 'pears': 120, 'apricots': 30}\n"
     ]
    }
   ],
   "source": [
    "inventory['apricots'] = 30\n",
    "print(inventory)"
   ]
  },
  {
   "cell_type": "markdown",
   "id": "3f612e59",
   "metadata": {
    "colab_type": "text",
    "id": "tCIkswDN1L9m"
   },
   "source": [
    "Warning: if you look for a key that does not exist in a dictionary, python returns an error. To avoid this, you can use the method **get()**"
   ]
  },
  {
   "cell_type": "code",
   "execution_count": 33,
   "id": "b739cac1",
   "metadata": {
    "colab": {},
    "colab_type": "code",
    "id": "8v_RHt9F1KGx"
   },
   "outputs": [],
   "source": [
    "inventory.get('peaches') # n'existe pas"
   ]
  },
  {
   "cell_type": "code",
   "execution_count": 34,
   "id": "ab2a4507",
   "metadata": {
    "colab": {
     "base_uri": "https://localhost:8080/",
     "height": 34
    },
    "colab_type": "code",
    "id": "IlZRIOPb1Zd_",
    "outputId": "28332b9a-6ae8-4196-e464-117f74f0b2d7"
   },
   "outputs": [
    {
     "data": {
      "text/plain": [
       "100"
      ]
     },
     "execution_count": 34,
     "metadata": {},
     "output_type": "execute_result"
    }
   ],
   "source": [
    "inventory.get('apples') # pomme existe"
   ]
  },
  {
   "cell_type": "markdown",
   "id": "57411592",
   "metadata": {
    "colab_type": "text",
    "id": "OC8GzBfW1pBr"
   },
   "source": [
    "the **pop()** method allows you to remove a key from a dictionary while returning the value associated with the key."
   ]
  },
  {
   "cell_type": "code",
   "execution_count": 35,
   "id": "e07223a0",
   "metadata": {
    "colab": {
     "base_uri": "https://localhost:8080/",
     "height": 51
    },
    "colab_type": "code",
    "id": "njAZZTkf1d7H",
    "outputId": "b8f4a6a6-7e3f-4e3e-cb09-328ff4c24373"
   },
   "outputs": [
    {
     "name": "stdout",
     "output_type": "stream",
     "text": [
      "{'apples': 100, 'bananas': 80, 'pears': 120}\n",
      "30\n"
     ]
    }
   ],
   "source": [
    "apricots = inventory.pop('apricots')\n",
    "print(inventory) # no longer contains apricot key\n",
    "print(apricots) # apricots contains dictionary value"
   ]
  },
  {
   "cell_type": "markdown",
   "id": "b83a820d",
   "metadata": {
    "colab_type": "text",
    "id": "giJvo0ON2nxR"
   },
   "source": [
    "To use a for loop with a dictionary, it is useful to use the **items()** method which returns both the keys and the values"
   ]
  },
  {
   "cell_type": "code",
   "execution_count": 36,
   "id": "c0d2ea7b",
   "metadata": {
    "colab": {
     "base_uri": "https://localhost:8080/",
     "height": 68
    },
    "colab_type": "code",
    "id": "pn0mt-wh1oj0",
    "outputId": "69707cdc-8127-451e-c6ea-73942f0f1128"
   },
   "outputs": [
    {
     "name": "stdout",
     "output_type": "stream",
     "text": [
      "apples 100\n",
      "bananas 80\n",
      "pears 120\n"
     ]
    }
   ],
   "source": [
    "for key, value in inventory.items():\n",
    "   print(key, value)"
   ]
  },
  {
   "cell_type": "markdown",
   "id": "f988b14a",
   "metadata": {},
   "source": [
    "<a href=\"#toc\" role=\"button\" aria-pressed=\"true\" >⬆️Back to Table of Contents ⬆️</a>"
   ]
  },
  {
   "cell_type": "markdown",
   "id": "55259fa2",
   "metadata": {},
   "source": [
    "<a id=\"4\"></a>\n",
    "# **<center><span style=\"color:#01c9e0;\">4. Built-in Functions </span></center>**"
   ]
  },
  {
   "cell_type": "markdown",
   "id": "3c5f315d",
   "metadata": {
    "colab_type": "text",
    "id": "VVszUmwz-bFM"
   },
   "source": [
    "Python contains a large number of built-in functions that are very useful to know. This allows you to build code faster, without having to develop your own functions for the most basic tasks. In this notebook, I show you the most important ones:\n",
    "\n",
    "- Basic functions: `abs()`, `round()`, `max()`, `min()`, `len()`, `sum()`, `any()`, `all( )`\n",
    "- Variable type conversions: `int()`, `str()`, `float()`, `type()`\n",
    "- Data structure conversions: `list()`, `tuple()`\n",
    "- Binary conversions: `bin()`, `oct()`, `hex()`\n",
    "- `input()` function\n",
    "- `format()` `(f-string)` function\n",
    "- `open()` function"
   ]
  },
  {
   "cell_type": "markdown",
   "id": "d1045a65",
   "metadata": {},
   "source": [
    "## **<span style=\"color:#1c4587;\">Basic Function</span>**"
   ]
  },
  {
   "cell_type": "markdown",
   "id": "0de9a36f",
   "metadata": {
    "colab_type": "text",
    "id": "i_Gg60cR_oFB"
   },
   "source": [
    "Useful in all circumstances!"
   ]
  },
  {
   "cell_type": "code",
   "execution_count": 37,
   "id": "4f2b3c6a",
   "metadata": {
    "colab": {
     "base_uri": "https://localhost:8080/",
     "height": 51
    },
    "colab_type": "code",
    "id": "EAfp-li6-ZSD",
    "outputId": "c6a56073-a7b7-40b9-cdeb-114e9a607ce1"
   },
   "outputs": [
    {
     "name": "stdout",
     "output_type": "stream",
     "text": [
      "5.64\n",
      "-6\n"
     ]
    }
   ],
   "source": [
    "x = -5.64\n",
    "print(abs(x)) # absolute value\n",
    "print(round(x)) # round"
   ]
  },
  {
   "cell_type": "code",
   "execution_count": 38,
   "id": "3eb2a5d4",
   "metadata": {
    "colab": {
     "base_uri": "https://localhost:8080/",
     "height": 85
    },
    "colab_type": "code",
    "id": "YnTEUj20_3Wq",
    "outputId": "349fb051-30e0-4366-8411-2e994071c9bb"
   },
   "outputs": [
    {
     "name": "stdout",
     "output_type": "stream",
     "text": [
      "-4\n",
      "3\n",
      "5\n",
      "-2\n"
     ]
    }
   ],
   "source": [
    "list = [-2, 3, 1, 0, -4]\n",
    "\n",
    "print(min(list)) # minimum\n",
    "print(max(list)) # max\n",
    "print(len(list)) # length\n",
    "print(sum(list)) # sum of elements"
   ]
  },
  {
   "cell_type": "code",
   "execution_count": 39,
   "id": "0dbb91f3",
   "metadata": {
    "colab": {
     "base_uri": "https://localhost:8080/",
     "height": 51
    },
    "colab_type": "code",
    "id": "c3I6FPVkANmN",
    "outputId": "a155cc37-193e-458c-b8af-132bb972ed4b"
   },
   "outputs": [
    {
     "name": "stdout",
     "output_type": "stream",
     "text": [
      "True\n",
      "False\n"
     ]
    }
   ],
   "source": [
    "list = [False, False, True]\n",
    "\n",
    "print(any(list)) # is there at least one True element?\n",
    "print(all(list)) # are all items True?"
   ]
  },
  {
   "cell_type": "markdown",
   "id": "05bedd84",
   "metadata": {},
   "source": [
    "## **<span style=\"color:#1c4587;\">Conversion function</span>**"
   ]
  },
  {
   "cell_type": "markdown",
   "id": "464bc809",
   "metadata": {
    "colab_type": "text",
    "id": "2CKqQf0YAuvN"
   },
   "source": [
    "It can be very useful to convert a variable from one type to another (for example to make calculations). For this, we have the functions int(), str() and float().\n",
    "\n",
    "The **type()** function is very useful for inspecting the types of our variables"
   ]
  },
  {
   "cell_type": "code",
   "execution_count": 40,
   "id": "64a2e8b5",
   "metadata": {
    "colab": {
     "base_uri": "https://localhost:8080/",
     "height": 34
    },
    "colab_type": "code",
    "id": "-_P3CGAvAatE",
    "outputId": "b7d86d2a-ac56-4165-80cd-4c98e19f6d04"
   },
   "outputs": [
    {
     "data": {
      "text/plain": [
       "str"
      ]
     },
     "execution_count": 40,
     "metadata": {},
     "output_type": "execute_result"
    }
   ],
   "source": [
    "age = '32'\n",
    "type(age)"
   ]
  },
  {
   "cell_type": "code",
   "execution_count": 41,
   "id": "06c1044e",
   "metadata": {
    "colab": {
     "base_uri": "https://localhost:8080/",
     "height": 34
    },
    "colab_type": "code",
    "id": "9QkhdpCEBK0W",
    "outputId": "f0a8a95c-d0cb-4551-9f08-a4021a68ed93"
   },
   "outputs": [
    {
     "data": {
      "text/plain": [
       "int"
      ]
     },
     "execution_count": 41,
     "metadata": {},
     "output_type": "execute_result"
    }
   ],
   "source": [
    "age = int(age)\n",
    "type(age)"
   ]
  },
  {
   "cell_type": "code",
   "execution_count": 42,
   "id": "89b8f5f0",
   "metadata": {
    "colab": {
     "base_uri": "https://localhost:8080/",
     "height": 34
    },
    "colab_type": "code",
    "id": "5DDHy7qBBT9l",
    "outputId": "cef6fe90-15f3-40ad-9239-e742c56db63c"
   },
   "outputs": [
    {
     "data": {
      "text/plain": [
       "42"
      ]
     },
     "execution_count": 42,
     "metadata": {},
     "output_type": "execute_result"
    }
   ],
   "source": [
    "age + 10"
   ]
  },
  {
   "cell_type": "markdown",
   "id": "cf4944bd",
   "metadata": {},
   "source": [
    "## **<span style=\"color:#1c4587;\">The input() function</span>**"
   ]
  },
  {
   "cell_type": "markdown",
   "id": "eafa4709",
   "metadata": {
    "colab_type": "text",
    "id": "orx_mdrPCCqx"
   },
   "source": [
    "This function is very useful to ask the user of the program to enter a value in your program"
   ]
  },
  {
   "cell_type": "code",
   "execution_count": 7,
   "id": "b875ebc9",
   "metadata": {
    "colab": {
     "base_uri": "https://localhost:8080/",
     "height": 34
    },
    "colab_type": "code",
    "id": "VRzdH0oeB3w8",
    "outputId": "4535b183-4540-477d-c649-e0446c75d2a8"
   },
   "outputs": [
    {
     "name": "stdout",
     "output_type": "stream",
     "text": [
      "how old are you?14\n"
     ]
    }
   ],
   "source": [
    "age = input('how old are you?')"
   ]
  },
  {
   "cell_type": "code",
   "execution_count": 44,
   "id": "eb890168",
   "metadata": {
    "colab": {
     "base_uri": "https://localhost:8080/",
     "height": 34
    },
    "colab_type": "code",
    "id": "mR0irKo7CXFj",
    "outputId": "2df066f9-12a1-4ba5-dc82-05cc376598f2"
   },
   "outputs": [
    {
     "data": {
      "text/plain": [
       "str"
      ]
     },
     "execution_count": 44,
     "metadata": {},
     "output_type": "execute_result"
    }
   ],
   "source": [
    "type(age) # age is of type string. you have to think about converting it if you want to do a calculation with"
   ]
  },
  {
   "cell_type": "markdown",
   "id": "a0fcb3d1",
   "metadata": {},
   "source": [
    "## **<span style=\"color:#1c4587;\">The format() function</span>**"
   ]
  },
  {
   "cell_type": "markdown",
   "id": "9a95b371",
   "metadata": {
    "colab_type": "text",
    "id": "ClGnpncTCpSh"
   },
   "source": [
    "This function allows you to insert the value of a variable within a character chain (string).\n",
    "\n",
    "A faster way to use this function is to call the **f-string**"
   ]
  },
  {
   "cell_type": "code",
   "execution_count": 45,
   "id": "0d3d3f09",
   "metadata": {
    "colab": {
     "base_uri": "https://localhost:8080/",
     "height": 34
    },
    "colab_type": "code",
    "id": "YNo1gncmCZjb",
    "outputId": "e4e51b60-5b8d-422b-a1c8-2d26fa34f4e0"
   },
   "outputs": [
    {
     "name": "stdout",
     "output_type": "stream",
     "text": [
      "it's 25 degrees at Cotonou\n"
     ]
    }
   ],
   "source": [
    "x = 25\n",
    "city = 'Cotonou'\n",
    "\n",
    "message = 'it\\'s {} degrees at {}'.format(x, city)\n",
    "print(message)"
   ]
  },
  {
   "cell_type": "code",
   "execution_count": 46,
   "id": "ee491469",
   "metadata": {
    "colab": {
     "base_uri": "https://localhost:8080/",
     "height": 34
    },
    "colab_type": "code",
    "id": "h3xtfGoHDCmu",
    "outputId": "45d10f11-4183-4daa-852c-3b86dac38002"
   },
   "outputs": [
    {
     "name": "stdout",
     "output_type": "stream",
     "text": [
      "it is 25 degrees in Cotonou\n"
     ]
    }
   ],
   "source": [
    "message = f'it is {x} degrees in {city}'\n",
    "print(message)"
   ]
  },
  {
   "cell_type": "markdown",
   "id": "4de39c86",
   "metadata": {},
   "source": [
    "## **<span style=\"color:#1c4587;\">The open() function</span>**"
   ]
  },
  {
   "cell_type": "markdown",
   "id": "6fad84fa",
   "metadata": {
    "colab_type": "text",
    "id": "PWFMzobFDkfP"
   },
   "source": [
    "This function is one of the most useful in Python. It allows you to open any file on your computer and use it in Python. Different modes exist:\n",
    "- 'r' mode: read a file from your computer\n",
    "- 'w' mode: write a file on your computer\n",
    "- mode 'a': (append) add content to an existing file"
   ]
  },
  {
   "cell_type": "code",
   "execution_count": 47,
   "id": "92e1d9bb",
   "metadata": {
    "colab": {},
    "colab_type": "code",
    "id": "ovu_J5rhDS0-"
   },
   "outputs": [],
   "source": [
    "f = open('text.txt', 'w') # open file object f\n",
    "f.write('hello')\n",
    "f.close() # we must close our file once the work is done"
   ]
  },
  {
   "cell_type": "code",
   "execution_count": 48,
   "id": "9c101d9e",
   "metadata": {
    "colab": {
     "base_uri": "https://localhost:8080/",
     "height": 34
    },
    "colab_type": "code",
    "id": "3GjqncN3NvO8",
    "outputId": "c94ca820-e42b-47d4-8840-425110ad62ef"
   },
   "outputs": [
    {
     "name": "stdout",
     "output_type": "stream",
     "text": [
      "hello\n"
     ]
    }
   ],
   "source": [
    "f = open('text.txt', 'r')\n",
    "print(f.read())\n",
    "f.close()"
   ]
  },
  {
   "cell_type": "markdown",
   "id": "e4668ec5",
   "metadata": {
    "colab_type": "text",
    "id": "tjuY60QsN3Ax"
   },
   "source": [
    "In practice, we more often write **with open() as f** so as not to have to close the file once the work is done:"
   ]
  },
  {
   "cell_type": "code",
   "execution_count": 49,
   "id": "60cc93dd",
   "metadata": {
    "colab": {
     "base_uri": "https://localhost:8080/",
     "height": 34
    },
    "colab_type": "code",
    "id": "8NeneA9zNy6N",
    "outputId": "74c9c575-68f2-4250-82b5-eca1c73669ee"
   },
   "outputs": [
    {
     "name": "stdout",
     "output_type": "stream",
     "text": [
      "hello\n"
     ]
    }
   ],
   "source": [
    "with open('text.txt', 'r') as f:\n",
    "     print(f.read())"
   ]
  },
  {
   "cell_type": "markdown",
   "id": "a910e23b",
   "metadata": {},
   "source": [
    "<a href=\"#toc\" role=\"button\" aria-pressed=\"true\" >⬆️Back to Table of Contents ⬆️</a>"
   ]
  },
  {
   "cell_type": "markdown",
   "id": "c17f1f0f",
   "metadata": {},
   "source": [
    "<a id=\"5\"></a>\n",
    "# **<center><span style=\"color:#01c9e0;\">5. Base packages </span></center>**"
   ]
  },
  {
   "cell_type": "markdown",
   "id": "8f20e18c",
   "metadata": {
    "colab_type": "text",
    "id": "BUt_YJsDRLNS"
   },
   "source": [
    "Python contains a number of packages. A package is simply a set of multiple modules bundled together. We will be able to import packages in the same way as modules and access a particular module or element.\n",
    "\n",
    "To import a package, proceed as follows:\n",
    "- **import package** (import the whole package)\n",
    "- **import package as pck** (give a nickname to the package)\n",
    "- **from package import function** (imports a function from the package)"
   ]
  },
  {
   "cell_type": "code",
   "execution_count": 50,
   "id": "4ba6aad8",
   "metadata": {
    "colab": {},
    "colab_type": "code",
    "id": "gmlP-nyNRksg"
   },
   "outputs": [],
   "source": [
    "import pandas as pd\n",
    "import numpy as np\n",
    "import matplotlib.pyplot as plt\n",
    "import seaborn as sns"
   ]
  },
  {
   "cell_type": "markdown",
   "id": "cfd91fbc",
   "metadata": {},
   "source": [
    "## **<span style=\"color:#1c4587;\">Pandas</span>**"
   ]
  },
  {
   "cell_type": "markdown",
   "id": "e94d5c81",
   "metadata": {
    "colab_type": "text",
    "id": "1ETgM9qZRdw1"
   },
   "source": [
    "**PANDAS** is a data manipulation and analysis package.\n",
    "\n",
    "* Documentation: pandas.pydata.org"
   ]
  },
  {
   "cell_type": "code",
   "execution_count": 51,
   "id": "f55c67ec",
   "metadata": {
    "colab": {
     "base_uri": "https://localhost:8080/",
     "height": 51
    },
    "colab_type": "code",
    "id": "cGfVUkdVRE_y",
    "outputId": "edddb1de-d91e-4615-ac5a-65ae846602b1"
   },
   "outputs": [],
   "source": [
    "pop = [4.4, 3.5, 1.7, 1.2, 1.1, 17, 1.4, 2.8]"
   ]
  },
  {
   "cell_type": "code",
   "execution_count": 52,
   "id": "a4042b06",
   "metadata": {},
   "outputs": [],
   "source": [
    "df = pd.DataFrame(pop, columns = ['value']) "
   ]
  },
  {
   "cell_type": "code",
   "execution_count": 53,
   "id": "911a3682",
   "metadata": {
    "colab": {
     "base_uri": "https://localhost:8080/",
     "height": 51
    },
    "colab_type": "code",
    "id": "XwFZrMVdTQyJ",
    "outputId": "992c6517-76de-4240-a043-1a3a199bcfd4"
   },
   "outputs": [
    {
     "data": {
      "text/html": [
       "<div>\n",
       "<style scoped>\n",
       "    .dataframe tbody tr th:only-of-type {\n",
       "        vertical-align: middle;\n",
       "    }\n",
       "\n",
       "    .dataframe tbody tr th {\n",
       "        vertical-align: top;\n",
       "    }\n",
       "\n",
       "    .dataframe thead th {\n",
       "        text-align: right;\n",
       "    }\n",
       "</style>\n",
       "<table border=\"1\" class=\"dataframe\">\n",
       "  <thead>\n",
       "    <tr style=\"text-align: right;\">\n",
       "      <th></th>\n",
       "      <th>value</th>\n",
       "    </tr>\n",
       "  </thead>\n",
       "  <tbody>\n",
       "    <tr>\n",
       "      <th>0</th>\n",
       "      <td>4.4</td>\n",
       "    </tr>\n",
       "    <tr>\n",
       "      <th>1</th>\n",
       "      <td>3.5</td>\n",
       "    </tr>\n",
       "    <tr>\n",
       "      <th>2</th>\n",
       "      <td>1.7</td>\n",
       "    </tr>\n",
       "  </tbody>\n",
       "</table>\n",
       "</div>"
      ],
      "text/plain": [
       "   value\n",
       "0    4.4\n",
       "1    3.5\n",
       "2    1.7"
      ]
     },
     "execution_count": 53,
     "metadata": {},
     "output_type": "execute_result"
    }
   ],
   "source": [
    "df.head(3) "
   ]
  },
  {
   "cell_type": "code",
   "execution_count": 54,
   "id": "d0d956f1",
   "metadata": {},
   "outputs": [
    {
     "name": "stdout",
     "output_type": "stream",
     "text": [
      "<class 'pandas.core.frame.DataFrame'>\n",
      "RangeIndex: 8 entries, 0 to 7\n",
      "Data columns (total 1 columns):\n",
      " #   Column  Non-Null Count  Dtype  \n",
      "---  ------  --------------  -----  \n",
      " 0   value   8 non-null      float64\n",
      "dtypes: float64(1)\n",
      "memory usage: 192.0 bytes\n"
     ]
    }
   ],
   "source": [
    "df.info() "
   ]
  },
  {
   "cell_type": "code",
   "execution_count": 55,
   "id": "c405a7bb",
   "metadata": {},
   "outputs": [
    {
     "data": {
      "text/html": [
       "<div>\n",
       "<style scoped>\n",
       "    .dataframe tbody tr th:only-of-type {\n",
       "        vertical-align: middle;\n",
       "    }\n",
       "\n",
       "    .dataframe tbody tr th {\n",
       "        vertical-align: top;\n",
       "    }\n",
       "\n",
       "    .dataframe thead th {\n",
       "        text-align: right;\n",
       "    }\n",
       "</style>\n",
       "<table border=\"1\" class=\"dataframe\">\n",
       "  <thead>\n",
       "    <tr style=\"text-align: right;\">\n",
       "      <th></th>\n",
       "      <th>value</th>\n",
       "    </tr>\n",
       "  </thead>\n",
       "  <tbody>\n",
       "    <tr>\n",
       "      <th>count</th>\n",
       "      <td>8.000000</td>\n",
       "    </tr>\n",
       "    <tr>\n",
       "      <th>mean</th>\n",
       "      <td>4.137500</td>\n",
       "    </tr>\n",
       "    <tr>\n",
       "      <th>std</th>\n",
       "      <td>5.331828</td>\n",
       "    </tr>\n",
       "    <tr>\n",
       "      <th>min</th>\n",
       "      <td>1.100000</td>\n",
       "    </tr>\n",
       "    <tr>\n",
       "      <th>25%</th>\n",
       "      <td>1.350000</td>\n",
       "    </tr>\n",
       "    <tr>\n",
       "      <th>50%</th>\n",
       "      <td>2.250000</td>\n",
       "    </tr>\n",
       "    <tr>\n",
       "      <th>75%</th>\n",
       "      <td>3.725000</td>\n",
       "    </tr>\n",
       "    <tr>\n",
       "      <th>max</th>\n",
       "      <td>17.000000</td>\n",
       "    </tr>\n",
       "  </tbody>\n",
       "</table>\n",
       "</div>"
      ],
      "text/plain": [
       "           value\n",
       "count   8.000000\n",
       "mean    4.137500\n",
       "std     5.331828\n",
       "min     1.100000\n",
       "25%     1.350000\n",
       "50%     2.250000\n",
       "75%     3.725000\n",
       "max    17.000000"
      ]
     },
     "execution_count": 55,
     "metadata": {},
     "output_type": "execute_result"
    }
   ],
   "source": [
    "df.describe()"
   ]
  },
  {
   "cell_type": "markdown",
   "id": "8646d5b5",
   "metadata": {},
   "source": [
    "## **<span style=\"color:#1c4587;\">Numpy</span>**"
   ]
  },
  {
   "cell_type": "markdown",
   "id": "0d7f39c6",
   "metadata": {
    "colab_type": "text",
    "id": "1ETgM9qZRdw1"
   },
   "source": [
    "**NUMPY** is a package for manipulating multidimensional matrices or arrays\n",
    "\n",
    "* Documentation: numpy.org"
   ]
  },
  {
   "cell_type": "code",
   "execution_count": 56,
   "id": "b9f021d4",
   "metadata": {
    "colab": {
     "base_uri": "https://localhost:8080/",
     "height": 51
    },
    "colab_type": "code",
    "id": "cGfVUkdVRE_y",
    "outputId": "edddb1de-d91e-4615-ac5a-65ae846602b1"
   },
   "outputs": [],
   "source": [
    "array = np.array([[[0, 1, 2, 3],\n",
    "                   [4, 5, 6, 7]],\n",
    "\n",
    "                   [[0, 1, 2, 3],\n",
    "                   [4, 5, 6, 7]],\n",
    "\n",
    "                   [[0, 1, 2, 3],\n",
    "                   [4, 5, 6, 7]]])"
   ]
  },
  {
   "cell_type": "code",
   "execution_count": 57,
   "id": "1d08f798",
   "metadata": {},
   "outputs": [
    {
     "data": {
      "text/plain": [
       "3"
      ]
     },
     "execution_count": 57,
     "metadata": {},
     "output_type": "execute_result"
    }
   ],
   "source": [
    "array.ndim "
   ]
  },
  {
   "cell_type": "code",
   "execution_count": 58,
   "id": "7b8c3c96",
   "metadata": {
    "colab": {
     "base_uri": "https://localhost:8080/",
     "height": 51
    },
    "colab_type": "code",
    "id": "XwFZrMVdTQyJ",
    "outputId": "992c6517-76de-4240-a043-1a3a199bcfd4"
   },
   "outputs": [
    {
     "data": {
      "text/plain": [
       "24"
      ]
     },
     "execution_count": 58,
     "metadata": {},
     "output_type": "execute_result"
    }
   ],
   "source": [
    "array.size "
   ]
  },
  {
   "cell_type": "code",
   "execution_count": 59,
   "id": "2040a027",
   "metadata": {},
   "outputs": [
    {
     "data": {
      "text/plain": [
       "array([0., 0., 0., 0., 0.])"
      ]
     },
     "execution_count": 59,
     "metadata": {},
     "output_type": "execute_result"
    }
   ],
   "source": [
    "np.zeros(5)"
   ]
  },
  {
   "cell_type": "markdown",
   "id": "b4cdaf21",
   "metadata": {},
   "source": [
    "## **<span style=\"color:#1c4587;\">Matplotlib</span>**"
   ]
  },
  {
   "cell_type": "markdown",
   "id": "c82fb81d",
   "metadata": {
    "colab_type": "text",
    "id": "1ETgM9qZRdw1"
   },
   "source": [
    "**MATPLOTLIB** is a package for plotting and visualizing data as graphs.\n",
    "\n",
    "* Documentation: matplotlib.org"
   ]
  },
  {
   "cell_type": "code",
   "execution_count": 60,
   "id": "6fb2d77c",
   "metadata": {},
   "outputs": [
    {
     "data": {
      "image/png": "[encoded data removed]",
      "text/plain": [
       "<Figure size 432x288 with 1 Axes>"
      ]
     },
     "metadata": {
      "needs_background": "light"
     },
     "output_type": "display_data"
    }
   ],
   "source": [
    "np.random.seed(3)\n",
    "x = 0.5 + np.arange(8)\n",
    "y = np.random.uniform(2, 7, len(x))\n",
    "\n",
    "# barplot\n",
    "fig, ax = plt.subplots()\n",
    "\n",
    "ax.bar(x, y, width=1, edgecolor=\"white\", linewidth=0.7)\n",
    "\n",
    "ax.set(xlim=(0, 8), xticks=np.arange(1, 8),\n",
    "       ylim=(0, 8), yticks=np.arange(1, 8))\n",
    "\n",
    "plt.show()"
   ]
  },
  {
   "cell_type": "code",
   "execution_count": 61,
   "id": "bc431ac9",
   "metadata": {
    "colab": {
     "base_uri": "https://localhost:8080/",
     "height": 51
    },
    "colab_type": "code",
    "id": "XwFZrMVdTQyJ",
    "outputId": "992c6517-76de-4240-a043-1a3a199bcfd4"
   },
   "outputs": [
    {
     "data": {
      "image/png": "[encoded data removed]",
      "text/plain": [
       "<Figure size 432x288 with 1 Axes>"
      ]
     },
     "metadata": {
      "needs_background": "light"
     },
     "output_type": "display_data"
    }
   ],
   "source": [
    "# make the data\n",
    "np.random.seed(3)\n",
    "x = 4 + np.random.normal(0, 2, 24)\n",
    "y = 4 + np.random.normal(0, 2, len(x))\n",
    "# size and color:\n",
    "sizes = np.random.uniform(15, 80, len(x))\n",
    "colors = np.random.uniform(15, 80, len(x))\n",
    "\n",
    "# plot\n",
    "fig, ax = plt.subplots()\n",
    "\n",
    "ax.scatter(x, y, s=sizes, c=colors, vmin=0, vmax=100)\n",
    "\n",
    "ax.set(xlim=(0, 8), xticks=np.arange(1, 8),\n",
    "       ylim=(0, 8), yticks=np.arange(1, 8))\n",
    "\n",
    "plt.show()"
   ]
  },
  {
   "cell_type": "markdown",
   "id": "c96eb237",
   "metadata": {},
   "source": [
    "## **<span style=\"color:#1c4587;\">Seaborn</span>**"
   ]
  },
  {
   "cell_type": "markdown",
   "id": "5fe07c11",
   "metadata": {
    "colab_type": "text",
    "id": "1ETgM9qZRdw1"
   },
   "source": [
    "**SEABORN** is an easy-to-use data visualization package based on matplotlib.\n",
    "\n",
    "* Documentation: seaborn.pydata.org"
   ]
  },
  {
   "cell_type": "code",
   "execution_count": 62,
   "id": "0ce7b6f2",
   "metadata": {},
   "outputs": [
    {
     "data": {
      "text/plain": [
       "<seaborn.axisgrid.FacetGrid at 0x1a6a01bdb20>"
      ]
     },
     "execution_count": 62,
     "metadata": {},
     "output_type": "execute_result"
    },
    {
     "data": {
      "image/png": "[encoded data removed]",
      "text/plain": [
       "<Figure size 360x360 with 1 Axes>"
      ]
     },
     "metadata": {
      "needs_background": "light"
     },
     "output_type": "display_data"
    }
   ],
   "source": [
    "penguins = sns.load_dataset(\"penguins\")\n",
    "sns.displot(data=penguins, x=\"flipper_length_mm\")"
   ]
  },
  {
   "cell_type": "code",
   "execution_count": 63,
   "id": "6d2cf18d",
   "metadata": {},
   "outputs": [
    {
     "data": {
      "image/png": "[encoded data removed]",
      "text/plain": [
       "<Figure size 504x360 with 2 Axes>"
      ]
     },
     "metadata": {},
     "output_type": "display_data"
    }
   ],
   "source": [
    "corr = np.corrcoef(np.random.randn(10, 200))\n",
    "mask = np.zeros_like(corr)\n",
    "mask[np.triu_indices_from(mask)] = True\n",
    "with sns.axes_style(\"white\"):\n",
    "    f, ax = plt.subplots(figsize=(7, 5))\n",
    "    ax = sns.heatmap(corr, mask=mask, vmax=.3, square=True)"
   ]
  },
  {
   "cell_type": "markdown",
   "id": "314fc95c",
   "metadata": {},
   "source": [
    "<a href=\"#toc\" role=\"button\" aria-pressed=\"true\" >⬆️Back to Table of Contents ⬆️</a>"
   ]
  },
  {
   "cell_type": "markdown",
   "id": "35e0dbbe",
   "metadata": {},
   "source": [
    "<a id=\"5\"></a>\n",
    "# **<center><span style=\"color:#01c9e0;\">6. Exercises </span></center>**"
   ]
  },
  {
   "cell_type": "markdown",
   "id": "414c9e05",
   "metadata": {},
   "source": [
    "## **<span style=\"color:#1c4587;\">Exo 1</span>**"
   ]
  },
  {
   "cell_type": "markdown",
   "id": "fddd2349",
   "metadata": {},
   "source": [
    "Create a function that calculates the average speed of a vehicle.\n",
    "\n",
    "Adds a control structure that lets us know if the driver is wired or not\n",
    "\n",
    "**`TIP`: Average_speed = distance / time**"
   ]
  },
  {
   "cell_type": "code",
   "execution_count": 8,
   "id": "c30a0cc8",
   "metadata": {},
   "outputs": [
    {
     "data": {
      "text/plain": [
       "25.0"
      ]
     },
     "execution_count": 8,
     "metadata": {},
     "output_type": "execute_result"
    }
   ],
   "source": [
    "def avg_speed(distance, time):\n",
    "   result = distance / time\n",
    "   return result\n",
    "\n",
    "avg_speed(75, 3)"
   ]
  },
  {
   "cell_type": "markdown",
   "id": "93f2e322",
   "metadata": {},
   "source": [
    "## **<span style=\"color:#1c4587;\">Exo 2</span>**"
   ]
  },
  {
   "cell_type": "markdown",
   "id": "9fe3ce86",
   "metadata": {},
   "source": [
    "Create a function that sorts a population according to their age either adult or minor\n",
    "\n",
    "**`TIP`: The following code may be useful:**"
   ]
  },
  {
   "cell_type": "code",
   "execution_count": 9,
   "id": "ca236212",
   "metadata": {},
   "outputs": [],
   "source": [
    "age = {'adult':[],\n",
    "        'minor':[]\n",
    "                   }\n",
    "\n",
    "def sort(age, value):\n",
    "     if value >=18:\n",
    "         age['adult'].append(value)\n",
    "     else:\n",
    "         age['minor'].append(value)\n",
    "     return age"
   ]
  },
  {
   "cell_type": "code",
   "execution_count": 13,
   "id": "1e875e92",
   "metadata": {},
   "outputs": [
    {
     "data": {
      "text/plain": [
       "{'adult': [22, 50], 'minor': [14, 8]}"
      ]
     },
     "execution_count": 13,
     "metadata": {},
     "output_type": "execute_result"
    }
   ],
   "source": [
    "sort(age,8)"
   ]
  },
  {
   "cell_type": "markdown",
   "id": "77d549f1",
   "metadata": {},
   "source": [
    "## **<span style=\"color:#1c4587;\">Exo 3</span>**"
   ]
  },
  {
   "cell_type": "markdown",
   "id": "d7359f75",
   "metadata": {},
   "source": [
    "The code below creates a file that contains the square numbers from 0 to 5.\n",
    "\n",
    "Implements code that reads this file and writes each line to a list.\n",
    "    \n",
    "**`TIPS`:**\n",
    "\n",
    "**The *read().splitlines()* function will be very useful**\n",
    "\n",
    "**For best results, try using a list comprehension**\n",
    "\n",
    "**This piece of code writes the file**"
   ]
  },
  {
   "cell_type": "code",
   "execution_count": 17,
   "id": "cda82a69",
   "metadata": {},
   "outputs": [],
   "source": [
    "with open('file.txt', 'w') as f:\n",
    "     for i in range(0,16):\n",
    "         f.write(f'{i}: {i**2} \\n')\n",
    "     f.close()"
   ]
  },
  {
   "cell_type": "code",
   "execution_count": 18,
   "id": "16950c3d",
   "metadata": {},
   "outputs": [
    {
     "data": {
      "text/plain": [
       "['0: 0 ',\n",
       " '1: 1 ',\n",
       " '2: 4 ',\n",
       " '3: 9 ',\n",
       " '4: 16 ',\n",
       " '5: 25 ',\n",
       " '6: 36 ',\n",
       " '7: 49 ',\n",
       " '8: 64 ',\n",
       " '9: 81 ',\n",
       " '10: 100 ',\n",
       " '11: 121 ',\n",
       " '12: 144 ',\n",
       " '13: 169 ',\n",
       " '14: 196 ',\n",
       " '15: 225 ']"
      ]
     },
     "execution_count": 18,
     "metadata": {},
     "output_type": "execute_result"
    }
   ],
   "source": [
    "with open('file.txt','r') as f:\n",
    "     list_1 = f.read().splitlines()\n",
    "\n",
    "list_1"
   ]
  },
  {
   "cell_type": "markdown",
   "id": "bfe774eb",
   "metadata": {},
   "source": [
    "<a href=\"#toc\" role=\"button\" aria-pressed=\"true\" >⬆️Back to Table of Contents ⬆️</a>"
   ]
  },
  {
   "cell_type": "code",
   "execution_count": null,
   "id": "b87cfdd4",
   "metadata": {},
   "outputs": [],
   "source": []
  }
 ],
 "metadata": {
  "kernelspec": {
   "display_name": "Python 3 (ipykernel)",
   "language": "python",
   "name": "python3"
  },
  "language_info": {
   "codemirror_mode": {
    "name": "ipython",
    "version": 3
   },
   "file_extension": ".py",
   "mimetype": "text/x-python",
   "name": "python",
   "nbconvert_exporter": "python",
   "pygments_lexer": "ipython3",
   "version": "3.9.7"
  }
 },
 "nbformat": 4,
 "nbformat_minor": 5
}
