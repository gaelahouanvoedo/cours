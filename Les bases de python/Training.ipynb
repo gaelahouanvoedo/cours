{
 "cells": [
  {
   "cell_type": "markdown",
   "metadata": {},
   "source": [
    "**Created by Gael AHOUANVOEDO (Fr Session Lead)**\n",
    "\n",
    "**🚀 Python Basics 📊 ALX Udacity Data Analyst NanoDegree 📈**\n",
    "\n",
    "**July 08, 2022**"
   ]
  },
  {
   "cell_type": "markdown",
   "metadata": {},
   "source": [
    "# **<center><span style=\"color:#01c9e0;\">🚀 PYTHON BASICS 🚀 </span></center>**\n",
    "## <center>For more information contact me on Slack 👍</center>"
   ]
  },
  {
   "cell_type": "markdown",
   "metadata": {},
   "source": [
    "# **<center><span style=\"color:#01c9e0;\">Training </span></center>**"
   ]
  },
  {
   "cell_type": "markdown",
   "metadata": {},
   "source": [
    "1 - Create an integer variable named age that stores an individual's age"
   ]
  },
  {
   "cell_type": "code",
   "execution_count": 1,
   "metadata": {
    "id": "N7CU1yFB8g6M"
   },
   "outputs": [],
   "source": [
    "age = 25"
   ]
  },
  {
   "cell_type": "markdown",
   "metadata": {
    "id": "Nccn4WmL9Hfr"
   },
   "source": [
    "2 - Create a decimal variable named height which stores the height of an individual"
   ]
  },
  {
   "cell_type": "code",
   "execution_count": 2,
   "metadata": {
    "id": "QHVn6aBR9WKn"
   },
   "outputs": [],
   "source": [
    "height = 184.5"
   ]
  },
  {
   "cell_type": "markdown",
   "metadata": {
    "id": "HRPJ7QBX9XBK"
   },
   "source": [
    "3 - Create a string variable named name which stores the name of an individual"
   ]
  },
  {
   "cell_type": "code",
   "execution_count": 3,
   "metadata": {
    "id": "osamI92Z9dwY"
   },
   "outputs": [],
   "source": [
    "name = 'Nissi'"
   ]
  },
  {
   "cell_type": "markdown",
   "metadata": {
    "id": "tIA3Xdxt9eSx"
   },
   "source": [
    "4 - Create a boolean variable named detection which stores the results of a lie detector"
   ]
  },
  {
   "cell_type": "code",
   "execution_count": 4,
   "metadata": {
    "id": "weQjLgra90Pw"
   },
   "outputs": [],
   "source": [
    "detection = True"
   ]
  },
  {
   "cell_type": "markdown",
   "metadata": {
    "id": "b48OsapZ90w1"
   },
   "source": [
    "5 - Create a set of variables that stores the following information about a student: surname, first name, age, height, gender, residence, graduate (Yes or No)."
   ]
  },
  {
   "cell_type": "code",
   "execution_count": 5,
   "metadata": {
    "id": "vRjNHXSL-ctr"
   },
   "outputs": [],
   "source": [
    "surname = \"Gael\"\n",
    "first_name = 'Tosin'\n",
    "age = 12\n",
    "height = 180.8\n",
    "gender = \"female\"\n",
    "residence = 'Nigeria'\n",
    "graduate = True"
   ]
  },
  {
   "cell_type": "markdown",
   "metadata": {
    "id": "jfnIvnNfIUL3"
   },
   "source": [
    "6 - Sum your age and the value 22 and store the result in a new variable"
   ]
  },
  {
   "cell_type": "code",
   "execution_count": 6,
   "metadata": {
    "colab": {
     "base_uri": "https://localhost:8080/"
    },
    "id": "BtMtAd_4IkCz",
    "outputId": "5dea7bc0-8fc3-4299-de17-4f1e3f9c89bd"
   },
   "outputs": [
    {
     "data": {
      "text/plain": [
       "34"
      ]
     },
     "execution_count": 6,
     "metadata": {},
     "output_type": "execute_result"
    }
   ],
   "source": [
    "new_age = age + 22\n",
    "new_age"
   ]
  },
  {
   "cell_type": "markdown",
   "metadata": {
    "id": "5Oy-GNqQIwDw"
   },
   "source": [
    "7 - Subtract your age from the new variable obtained in 6"
   ]
  },
  {
   "cell_type": "code",
   "execution_count": 7,
   "metadata": {
    "colab": {
     "base_uri": "https://localhost:8080/"
    },
    "id": "l-J0cMY6I-uD",
    "outputId": "06408d19-1ede-4d5a-e322-bd30ae4ca404"
   },
   "outputs": [
    {
     "data": {
      "text/plain": [
       "22"
      ]
     },
     "execution_count": 7,
     "metadata": {},
     "output_type": "execute_result"
    }
   ],
   "source": [
    "sub_age = new_age - age\n",
    "sub_age"
   ]
  },
  {
   "cell_type": "markdown",
   "metadata": {
    "id": "tDAa8wR2I-BH"
   },
   "source": [
    "8 - Divide your age by two and store the result in a new variable"
   ]
  },
  {
   "cell_type": "code",
   "execution_count": 8,
   "metadata": {
    "colab": {
     "base_uri": "https://localhost:8080/"
    },
    "id": "MHFTDHvEJGCB",
    "outputId": "8a641ca3-028f-4da7-b9cf-927684cf7d6b"
   },
   "outputs": [
    {
     "data": {
      "text/plain": [
       "6.0"
      ]
     },
     "execution_count": 8,
     "metadata": {},
     "output_type": "execute_result"
    }
   ],
   "source": [
    "div_age = age/2\n",
    "div_age"
   ]
  },
  {
   "cell_type": "markdown",
   "metadata": {
    "id": "vQUpwCgtJIPq"
   },
   "source": [
    "9 - Calculate the product of your age and the variable obtained in 8"
   ]
  },
  {
   "cell_type": "code",
   "execution_count": 9,
   "metadata": {
    "colab": {
     "base_uri": "https://localhost:8080/"
    },
    "id": "CEY8kPzoJS9X",
    "outputId": "7bf13ab7-fc46-402b-a188-832a9df0f83e"
   },
   "outputs": [
    {
     "data": {
      "text/plain": [
       "72.0"
      ]
     },
     "execution_count": 9,
     "metadata": {},
     "output_type": "execute_result"
    }
   ],
   "source": [
    "prod_age = age*div_age\n",
    "prod_age"
   ]
  },
  {
   "cell_type": "markdown",
   "metadata": {
    "id": "UUJ2thugJUBv"
   },
   "source": [
    "10 - Your age to the power of 3 gives?"
   ]
  },
  {
   "cell_type": "code",
   "execution_count": 10,
   "metadata": {
    "colab": {
     "base_uri": "https://localhost:8080/"
    },
    "id": "ya5xFavhJcHN",
    "outputId": "4bf3f7c4-d7eb-410b-c151-3c080f77c722"
   },
   "outputs": [
    {
     "name": "stdout",
     "output_type": "stream",
     "text": [
      "1728\n"
     ]
    }
   ],
   "source": [
    "print(age**3)"
   ]
  },
  {
   "cell_type": "markdown",
   "metadata": {
    "id": "kf7Zh6aGLaAh"
   },
   "source": [
    "11 - Check if data 'Mark' and 'mark' are equal"
   ]
  },
  {
   "cell_type": "code",
   "execution_count": 11,
   "metadata": {
    "colab": {
     "base_uri": "https://localhost:8080/"
    },
    "id": "J2gGQDJILY4r",
    "outputId": "0ed83324-2311-4051-ec0b-0a7cfbac1ab6"
   },
   "outputs": [
    {
     "name": "stdout",
     "output_type": "stream",
     "text": [
      "No\n"
     ]
    }
   ],
   "source": [
    "if ('Mark' == 'mark'):\n",
    "    print ('Yes')\n",
    "else:\n",
    "    print ('No')"
   ]
  },
  {
   "cell_type": "markdown",
   "metadata": {
    "id": "TXUhQfRNLpxl"
   },
   "source": [
    "12 - Checks if data 14 and 14.0 are unequal"
   ]
  },
  {
   "cell_type": "code",
   "execution_count": 12,
   "metadata": {
    "colab": {
     "base_uri": "https://localhost:8080/"
    },
    "id": "3O8GE4VAL2Tx",
    "outputId": "2e24f2d0-5539-4313-f9e2-001d2100f727"
   },
   "outputs": [
    {
     "name": "stdout",
     "output_type": "stream",
     "text": [
      "14 et 14.0 are not unequal\n"
     ]
    }
   ],
   "source": [
    "if (14!=14.0):\n",
    "  print('14 et 14.0 are unequal')\n",
    "else:\n",
    "  print('14 et 14.0 are not unequal')  "
   ]
  },
  {
   "cell_type": "markdown",
   "metadata": {
    "id": "UsCgvGKJL2s5"
   },
   "source": [
    "13 - Compare the variable obtained in 6 to that in 8"
   ]
  },
  {
   "cell_type": "code",
   "execution_count": 13,
   "metadata": {
    "colab": {
     "base_uri": "https://localhost:8080/"
    },
    "id": "3ATTYxleMJM6",
    "outputId": "0e90612f-5613-4415-e78b-bf1572fef86f"
   },
   "outputs": [
    {
     "name": "stdout",
     "output_type": "stream",
     "text": [
      "34 is superior than 6.0 \n"
     ]
    }
   ],
   "source": [
    "if (new_age>div_age):\n",
    "    print(f'{new_age} is superior than {div_age} ')\n",
    "elif(new_age<div_age):\n",
    "    print(f'{new_age} is inferior than {div_age} ')\n",
    "else:\n",
    "    print(f'{new_age} et {div_age} are equal')"
   ]
  },
  {
   "cell_type": "markdown",
   "metadata": {
    "id": "AqTJopYlMUiz"
   },
   "source": [
    "14 - Create a function that will give us the possibility to compare two variables"
   ]
  },
  {
   "cell_type": "code",
   "execution_count": 14,
   "metadata": {
    "colab": {
     "base_uri": "https://localhost:8080/"
    },
    "id": "aqQFaAIMMreS",
    "outputId": "bff886d2-135b-4310-db5f-b0d06d3a4efa"
   },
   "outputs": [
    {
     "name": "stdout",
     "output_type": "stream",
     "text": [
      "10 is inferior to 12 \n"
     ]
    }
   ],
   "source": [
    "def comparaison (a,b):\n",
    "  if (a>b):\n",
    "    print(f'{a} is superior than {b} ')\n",
    "  elif(a<b):\n",
    "    print(f'{a} is inferior to {b} ')\n",
    "  else:\n",
    "    print(f'{a} et {b} are equal')\n",
    "\n",
    "comparaison(10,12)"
   ]
  },
  {
   "cell_type": "markdown",
   "metadata": {
    "id": "v1zvv_LGMr9h"
   },
   "source": [
    "15 - Create a function that will give us the sign of a variable"
   ]
  },
  {
   "cell_type": "code",
   "execution_count": 15,
   "metadata": {
    "colab": {
     "base_uri": "https://localhost:8080/"
    },
    "id": "OpInOmzFM75_",
    "outputId": "deaf9867-308f-41fb-e92c-76fbe1cedcb7"
   },
   "outputs": [
    {
     "name": "stdout",
     "output_type": "stream",
     "text": [
      "-15 is negative \n"
     ]
    }
   ],
   "source": [
    "def sign (a):\n",
    "  if (a>0):\n",
    "    print(f'{a} is positive ')\n",
    "  elif(a<0):\n",
    "    print(f'{a} is negative ')\n",
    "  else:\n",
    "    print(f'{a} is null')\n",
    "\n",
    "sign(-15)"
   ]
  },
  {
   "cell_type": "markdown",
   "metadata": {
    "id": "m_JTFbxZe8eL"
   },
   "source": [
    "16 - Create a list of 10 integer"
   ]
  },
  {
   "cell_type": "code",
   "execution_count": 16,
   "metadata": {
    "id": "V7PooO3De7C5"
   },
   "outputs": [],
   "source": [
    "list_1 = [45,85,20,10,6,89,4,1,9,77]"
   ]
  },
  {
   "cell_type": "code",
   "execution_count": 17,
   "metadata": {},
   "outputs": [
    {
     "data": {
      "text/plain": [
       "20"
      ]
     },
     "execution_count": 17,
     "metadata": {},
     "output_type": "execute_result"
    }
   ],
   "source": [
    "list_1[2]"
   ]
  },
  {
   "cell_type": "markdown",
   "metadata": {
    "id": "Y_tGxRulebYr"
   },
   "source": [
    "16 - Create a function that calculates the sum of the first 3 elements of the list"
   ]
  },
  {
   "cell_type": "code",
   "execution_count": 18,
   "metadata": {
    "colab": {
     "base_uri": "https://localhost:8080/"
    },
    "id": "4nFc3RMXezQ_",
    "outputId": "f3003196-33f6-4b46-9850-e4310f5ae19f"
   },
   "outputs": [
    {
     "name": "stdout",
     "output_type": "stream",
     "text": [
      "150\n"
     ]
    }
   ],
   "source": [
    "def list_sum(list_1):\n",
    "    return sum(list_1[0:3])\n",
    "\n",
    "print(list_sum(list_1))"
   ]
  },
  {
   "cell_type": "markdown",
   "metadata": {
    "id": "2mLksZ39ezp9"
   },
   "source": [
    "17 - Create a function that calculates the product of the last 3 elements of the list"
   ]
  },
  {
   "cell_type": "code",
   "execution_count": 19,
   "metadata": {
    "colab": {
     "base_uri": "https://localhost:8080/"
    },
    "id": "MnlET4rBfF0b",
    "outputId": "4d458cde-3f61-496c-a105-056ee2387f6b"
   },
   "outputs": [
    {
     "name": "stdout",
     "output_type": "stream",
     "text": [
      "693\n"
     ]
    }
   ],
   "source": [
    "def product(list_1):\n",
    "    result=1\n",
    "    for i in list_1[-3:]:\n",
    "      result = result * i\n",
    "    return result  \n",
    "print(product(list_1))"
   ]
  },
  {
   "cell_type": "markdown",
   "metadata": {
    "id": "4FMdaxoMfGPp"
   },
   "source": [
    "18 - Create a function that calculates the difference of the elements located at positions 4 to 8"
   ]
  },
  {
   "cell_type": "code",
   "execution_count": 20,
   "metadata": {
    "colab": {
     "base_uri": "https://localhost:8080/"
    },
    "id": "NPG7lGavfTnu",
    "outputId": "c48d3d03-64e8-493a-aedb-b6d2547eb495"
   },
   "outputs": [
    {
     "name": "stdout",
     "output_type": "stream",
     "text": [
      "-97\n"
     ]
    }
   ],
   "source": [
    "def subf(list_1):\n",
    "  result=list_1[4] # je fixe l'element à la position 4\n",
    "  for i in list_1[5:9]: # Je parcours la liste de la 5ème position à la huitième\n",
    "    result = result - i\n",
    "  return result\n",
    "\n",
    "print(subf(list_1))"
   ]
  },
  {
   "cell_type": "markdown",
   "metadata": {
    "id": "ydLrQR8nfUBI"
   },
   "source": [
    "19 - Add 3 more integer to your list"
   ]
  },
  {
   "cell_type": "code",
   "execution_count": 21,
   "metadata": {
    "colab": {
     "base_uri": "https://localhost:8080/"
    },
    "id": "nwrRijnsfZzK",
    "outputId": "d9967c18-de89-4473-f39d-72efb68dc41d"
   },
   "outputs": [
    {
     "data": {
      "text/plain": [
       "[45, 85, 20, 10, 6, 89, 4, 1, 9, 77, 50, 80, 0]"
      ]
     },
     "execution_count": 21,
     "metadata": {},
     "output_type": "execute_result"
    }
   ],
   "source": [
    "list_1.extend([50,80,0])\n",
    "list_1"
   ]
  },
  {
   "cell_type": "markdown",
   "metadata": {
    "id": "nslXvawVfaFf"
   },
   "source": [
    "20 - Sort the list in ascending order"
   ]
  },
  {
   "cell_type": "code",
   "execution_count": 22,
   "metadata": {
    "colab": {
     "base_uri": "https://localhost:8080/"
    },
    "id": "nccc1C3FffBo",
    "outputId": "26ca853e-8940-4299-c985-4f4715ba7967"
   },
   "outputs": [
    {
     "data": {
      "text/plain": [
       "[0, 1, 4, 6, 9, 10, 20, 45, 50, 77, 80, 85, 89]"
      ]
     },
     "execution_count": 22,
     "metadata": {},
     "output_type": "execute_result"
    }
   ],
   "source": [
    "list_1.sort(reverse=False)\n",
    "list_1"
   ]
  },
  {
   "cell_type": "markdown",
   "metadata": {
    "id": "Oo35cE08ffWr"
   },
   "source": [
    "21 - Sort the list in descending order"
   ]
  },
  {
   "cell_type": "code",
   "execution_count": 23,
   "metadata": {
    "colab": {
     "base_uri": "https://localhost:8080/"
    },
    "id": "YJx2_DbPfjfw",
    "outputId": "983496e3-b98f-44f2-9dbe-28329a52d550"
   },
   "outputs": [
    {
     "data": {
      "text/plain": [
       "[89, 85, 80, 77, 50, 45, 20, 10, 9, 6, 4, 1, 0]"
      ]
     },
     "execution_count": 23,
     "metadata": {},
     "output_type": "execute_result"
    }
   ],
   "source": [
    "list_1.sort(reverse=True)\n",
    "list_1"
   ]
  },
  {
   "cell_type": "markdown",
   "metadata": {
    "id": "l5gwsLWPYrow"
   },
   "source": [
    "22 - Create a list of the following countries: Togo, Mali, Burkina and Congo"
   ]
  },
  {
   "cell_type": "code",
   "execution_count": 24,
   "metadata": {
    "id": "jqUA7FvrYygW"
   },
   "outputs": [
    {
     "data": {
      "text/plain": [
       "['Togo', 'Mali', 'Burkina', 'Congo']"
      ]
     },
     "execution_count": 24,
     "metadata": {},
     "output_type": "execute_result"
    }
   ],
   "source": [
    "countries = [\"Togo\",'Mali','Burkina',\"Congo\"] \n",
    "countries"
   ]
  },
  {
   "cell_type": "markdown",
   "metadata": {
    "id": "zq8uxQmoYy2-"
   },
   "source": [
    "23 - Check if Niger is in the list"
   ]
  },
  {
   "cell_type": "code",
   "execution_count": 25,
   "metadata": {
    "colab": {
     "base_uri": "https://localhost:8080/"
    },
    "id": "hr8P7zlsZrZf",
    "outputId": "2f71f183-46e5-4cac-d194-d507e33d5c06"
   },
   "outputs": [
    {
     "name": "stdout",
     "output_type": "stream",
     "text": [
      "Niger is not in the list\n"
     ]
    }
   ],
   "source": [
    "if 'Niger' in countries:\n",
    "  print('Niger is in the list')\n",
    "else:\n",
    "  print('Niger is not in the list')"
   ]
  },
  {
   "cell_type": "markdown",
   "metadata": {
    "id": "8_X2i5dMZrp5"
   },
   "source": [
    "24 - Create a male and female census dictionary of a population"
   ]
  },
  {
   "cell_type": "code",
   "execution_count": 26,
   "metadata": {
    "colab": {
     "base_uri": "https://localhost:8080/"
    },
    "id": "pETwgF1RaPza",
    "outputId": "24216110-9b99-4085-e5c6-7486f15ac5fa"
   },
   "outputs": [
    {
     "name": "stdout",
     "output_type": "stream",
     "text": [
      "{'male': 20, 'female': 10}\n"
     ]
    }
   ],
   "source": [
    "population = { 'male': 20, 'female': 10}\n",
    "print(population)"
   ]
  },
  {
   "cell_type": "markdown",
   "metadata": {
    "id": "humHcqgLaQPS"
   },
   "source": [
    "25 - Add to this dictionary an undefined category for missing information"
   ]
  },
  {
   "cell_type": "code",
   "execution_count": 27,
   "metadata": {
    "colab": {
     "base_uri": "https://localhost:8080/"
    },
    "id": "hZYqSFUfaZO8",
    "outputId": "b00a75eb-e939-4bfe-92c4-0d43897bc621"
   },
   "outputs": [
    {
     "name": "stdout",
     "output_type": "stream",
     "text": [
      "{'male': 20, 'female': 10, 'undefined': 5}\n"
     ]
    }
   ],
   "source": [
    "population['undefined']=5\n",
    "print(population)"
   ]
  },
  {
   "cell_type": "markdown",
   "metadata": {
    "id": "ltjfKMYLaeGT"
   },
   "source": [
    "26 - Use a for loop that will return both keys and values"
   ]
  },
  {
   "cell_type": "code",
   "execution_count": 28,
   "metadata": {
    "colab": {
     "base_uri": "https://localhost:8080/"
    },
    "id": "xs4CfvBQarLp",
    "outputId": "c82bb1a1-3e1f-4e9d-83a0-7345bde8f57a"
   },
   "outputs": [
    {
     "name": "stdout",
     "output_type": "stream",
     "text": [
      "male 20\n",
      "female 10\n",
      "undefined 5\n"
     ]
    }
   ],
   "source": [
    "for keys, values in population.items():\n",
    "  print(keys, values)"
   ]
  },
  {
   "cell_type": "code",
   "execution_count": null,
   "metadata": {},
   "outputs": [],
   "source": []
  }
 ],
 "metadata": {
  "colab": {
   "collapsed_sections": [],
   "name": "Florian - Python",
   "provenance": []
  },
  "kernelspec": {
   "display_name": "Python 3 (ipykernel)",
   "language": "python",
   "name": "python3"
  },
  "language_info": {
   "codemirror_mode": {
    "name": "ipython",
    "version": 3
   },
   "file_extension": ".py",
   "mimetype": "text/x-python",
   "name": "python",
   "nbconvert_exporter": "python",
   "pygments_lexer": "ipython3",
   "version": "3.9.7"
  }
 },
 "nbformat": 4,
 "nbformat_minor": 4
}
