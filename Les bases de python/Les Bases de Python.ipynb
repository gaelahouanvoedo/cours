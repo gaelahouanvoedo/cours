{
 "cells": [
  {
   "cell_type": "markdown",
   "id": "d00ec675",
   "metadata": {
    "id": "d00ec675"
   },
   "source": [
    "**Créé par Gael AHOUANVOEDO**\n",
    "\n",
    "**🚀 Les Bases de Python 📊 Cours Gratuit 📈**\n",
    "\n",
    "**08 Juillet 2022**"
   ]
  },
  {
   "cell_type": "markdown",
   "id": "5752d771",
   "metadata": {
    "id": "5752d771"
   },
   "source": [
    "# **<center><span style=\"color:#01c9e0;\">🚀 LES BASES DE PYTHON 🚀   </span></center>**\n",
    "## <center>Pour plus d'informations contctez moi sur LinkedIn 👍</center>"
   ]
  },
  {
   "cell_type": "markdown",
   "id": "8ca2e992",
   "metadata": {
    "id": "8ca2e992"
   },
   "source": [
    "# **<span style=\"color:#01c9e0;\">Table des matières  </span>**\n",
    "<a id=\"toc\"></a>\n",
    "- [1. Variables et Fonctions](#1)\n",
    "- [2. Structures de Controles](#2)\n",
    "- [3. Structures de données](#3)\n",
    "- [4. Built-in Functions](#4)\n",
    "- [5. Packages de bases](#5)\n",
    "- [6. Exercices](#6)"
   ]
  },
  {
   "cell_type": "markdown",
   "id": "a30d773b",
   "metadata": {
    "id": "a30d773b"
   },
   "source": [
    "<a href=\"#toc\" role=\"button\" aria-pressed=\"true\" >⬆️Back to Table of Contents ⬆️</a>"
   ]
  },
  {
   "cell_type": "markdown",
   "id": "81772765",
   "metadata": {
    "id": "81772765"
   },
   "source": [
    "<a id=\"1\"></a>\n",
    "# **<center><span style=\"color:#01c9e0;\">1. Variables et Fonctions </span></center>**"
   ]
  },
  {
   "cell_type": "markdown",
   "id": "053e08a6",
   "metadata": {
    "id": "053e08a6"
   },
   "source": [
    "## **<span style=\"color:#1c4587;\">Variables  </span>**"
   ]
  },
  {
   "cell_type": "markdown",
   "id": "e102eb85",
   "metadata": {
    "id": "e102eb85"
   },
   "source": [
    "Il existe 4 grands types de variables\n",
    "- `int` (nombre entier)\n",
    "- `float` (nombre décimal)\n",
    "- `string` (chaine de characteres)\n",
    "- `bool` (booléen)"
   ]
  },
  {
   "cell_type": "code",
   "execution_count": null,
   "id": "52dd51bb",
   "metadata": {
    "id": "52dd51bb",
    "scrolled": true
   },
   "outputs": [],
   "source": [
    "x = 5\n",
    "y = 4.4 \n",
    "prenom = 'Kossi'\n",
    "z = True"
   ]
  },
  {
   "cell_type": "code",
   "execution_count": null,
   "id": "21c6526f",
   "metadata": {
    "id": "21c6526f",
    "outputId": "36da1edd-843d-4df5-a63d-8df63c4d365f"
   },
   "outputs": [],
   "source": [
    "print(x, '--> int')\n",
    "print(y, '--> float')\n",
    "print(prenom, '--> string')\n",
    "print(z, '--> Bool ')"
   ]
  },
  {
   "cell_type": "markdown",
   "id": "20718546",
   "metadata": {
    "id": "20718546"
   },
   "source": [
    "## **<span style=\"color:#1c4587;\">Opérations arithmétiques </span>**"
   ]
  },
  {
   "cell_type": "markdown",
   "id": "f34d77ed",
   "metadata": {
    "id": "f34d77ed"
   },
   "source": [
    "Les symboles des opérations arithmétiques sur python sont les mêmes qu'avec les autres langages phares :\n",
    "- `+` (addition)\n",
    "- `-` (soustraction)\n",
    "- `/` (division)\n",
    "- `//` (division entière)\n",
    "- `*` (multiplication)\n",
    "- `^` (puissance)"
   ]
  },
  {
   "cell_type": "code",
   "execution_count": null,
   "id": "ed8044b9",
   "metadata": {
    "colab": {
     "base_uri": "https://localhost:8080/",
     "height": 119
    },
    "id": "ed8044b9",
    "outputId": "108dc562-5cdf-493f-f804-572bb84cff36"
   },
   "outputs": [],
   "source": [
    "print('x + y =', x + y)\n",
    "print('x - y =', x - y)\n",
    "print('x / y =', x / y)\n",
    "print('x // y =', x // y)\n",
    "print('x * y =', x * y)\n",
    "print('x ^ y =', x ** y)"
   ]
  },
  {
   "cell_type": "markdown",
   "id": "3a42d970",
   "metadata": {
    "id": "3a42d970"
   },
   "source": [
    "## **<span style=\"color:#1c4587;\">Opérations de comparaison </span>**"
   ]
  },
  {
   "cell_type": "markdown",
   "id": "ac6079a1",
   "metadata": {
    "id": "ac6079a1"
   },
   "source": [
    "Les symboles des opérations de comparaison sur python sont les mêmes qu'avec les autres langages phares :\n",
    "- `==` (égalité)\n",
    "- `!=` (inégalité)\n",
    "- `<=` (inférieur ou égal)\n",
    "- `>=` (supérieur ou égal)"
   ]
  },
  {
   "cell_type": "code",
   "execution_count": null,
   "id": "e4c80faf",
   "metadata": {
    "colab": {
     "base_uri": "https://localhost:8080/",
     "height": 85
    },
    "id": "e4c80faf",
    "outputId": "b5e7fe5a-24da-4c26-e26d-fdb680e49f1d"
   },
   "outputs": [],
   "source": [
    "print('égalité :', x == y)\n",
    "print('inégalité :', x != y)\n",
    "print('inférieur ou égal :', x <= y)\n",
    "print('supérieur ou égal :', x >= y)"
   ]
  },
  {
   "cell_type": "markdown",
   "id": "d04c34ec",
   "metadata": {
    "id": "d04c34ec"
   },
   "source": [
    "## **<span style=\"color:#1c4587;\">Opérations Logiques </span>**"
   ]
  },
  {
   "cell_type": "markdown",
   "id": "3fa4220a",
   "metadata": {
    "id": "3fa4220a"
   },
   "source": [
    "Les symboles des opérations logiques sur python sont les mêmes qu'avec les autres langages phares :\n",
    "- `and` (ET)\n",
    "- `or` (OU)"
   ]
  },
  {
   "cell_type": "code",
   "execution_count": null,
   "id": "97f7c6d5",
   "metadata": {
    "colab": {
     "base_uri": "https://localhost:8080/",
     "height": 68
    },
    "id": "97f7c6d5",
    "outputId": "a9487664-4832-4e20-db7f-801835d4f111"
   },
   "outputs": [],
   "source": [
    "print('ET :', False and True)\n",
    "print('OU :', False or True)"
   ]
  },
  {
   "cell_type": "markdown",
   "id": "6e674ddc",
   "metadata": {
    "id": "6e674ddc"
   },
   "source": [
    "Note : Les opérations de comparaison et de logique utilisées ensemble permettent de construire des structures algorithmiques de bases (if/esle, while, ...)"
   ]
  },
  {
   "cell_type": "markdown",
   "id": "8c1356a5",
   "metadata": {
    "id": "8c1356a5"
   },
   "source": [
    "## **<span style=\"color:#1c4587;\">Fonctions </span>**"
   ]
  },
  {
   "cell_type": "markdown",
   "id": "e6e1838a",
   "metadata": {
    "id": "e6e1838a"
   },
   "source": [
    "La meilleure facon de créer une fonction est d'utiliser la structure suivante : `def`\n",
    "\n",
    "Une fonction a un nom, prend des entrées (arguments) et les transforme pour retourner un résultat"
   ]
  },
  {
   "cell_type": "code",
   "execution_count": null,
   "id": "7f23fbdc",
   "metadata": {
    "colab": {
     "base_uri": "https://localhost:8080/",
     "height": 34
    },
    "id": "7f23fbdc",
    "outputId": "32a0469a-d856-4206-931c-b013ae387720"
   },
   "outputs": [],
   "source": [
    "def nom_de_la_fonction(argument_1, argument_2):\n",
    "   restultat = argument_1 + argument_2\n",
    "   return restultat\n",
    "\n",
    "nom_de_la_fonction(10, 5)"
   ]
  },
  {
   "cell_type": "code",
   "execution_count": null,
   "id": "8bce3324",
   "metadata": {
    "colab": {
     "base_uri": "https://localhost:8080/",
     "height": 34
    },
    "id": "8bce3324",
    "outputId": "77716e9a-5364-4be9-dec0-c8c750ac0f46"
   },
   "outputs": [],
   "source": [
    "# Exemple concret : fonction qui calcul l'energie potentielle d'un corps\n",
    "\n",
    "def e_potentielle(masse, hauteur, g=9.81):\n",
    "  energie = masse * hauteur * g \n",
    "  return energie\n",
    "\n",
    "# ici g a une valeur par défaut donc nous ne sommes pas obligé de lui donner une valeur\n",
    "e_potentielle(masse=10, hauteur=10)"
   ]
  },
  {
   "cell_type": "markdown",
   "id": "54fe5266",
   "metadata": {
    "id": "54fe5266"
   },
   "source": [
    "<a href=\"#toc\" role=\"button\" aria-pressed=\"true\" >⬆️Back to Table of Contents ⬆️</a>"
   ]
  },
  {
   "cell_type": "markdown",
   "id": "b64c7827",
   "metadata": {
    "id": "b64c7827"
   },
   "source": [
    "<a id=\"2\"></a>\n",
    "# **<center><span style=\"color:#01c9e0;\">2. Structures de Controles </span></center>**"
   ]
  },
  {
   "cell_type": "markdown",
   "id": "0cd584ff",
   "metadata": {
    "id": "0cd584ff"
   },
   "source": [
    "## **<span style=\"color:#1c4587;\">Alternatives If / Else </span>**"
   ]
  },
  {
   "cell_type": "markdown",
   "id": "5be58971",
   "metadata": {
    "id": "5be58971"
   },
   "source": [
    "La structure `if/else` permet de tester une séquence d'alternatives. Si une condition est respéctée, alors les instructions qui la suivent sont executée et la structure de controle est stopée, sinon la condition suivante est testée."
   ]
  },
  {
   "cell_type": "code",
   "execution_count": null,
   "id": "12a3a736",
   "metadata": {
    "id": "12a3a736"
   },
   "outputs": [],
   "source": [
    "def test_du_signe(valeur):\n",
    "  if valeur < 0:\n",
    "    print('négatif')\n",
    "  elif valeur == 0:\n",
    "    print('nul')\n",
    "  else:\n",
    "    print('positif')"
   ]
  },
  {
   "cell_type": "code",
   "execution_count": null,
   "id": "a489da2c",
   "metadata": {
    "colab": {
     "base_uri": "https://localhost:8080/",
     "height": 34
    },
    "id": "a489da2c",
    "outputId": "5f69f649-4092-473e-ed5a-2f97203b2752"
   },
   "outputs": [],
   "source": [
    "test_du_signe(8)"
   ]
  },
  {
   "cell_type": "markdown",
   "id": "57c3eb3f",
   "metadata": {
    "id": "57c3eb3f"
   },
   "source": [
    "Note importante : Une condition est respectée si et seulement si elle correspond au résultat **booléen True**."
   ]
  },
  {
   "cell_type": "code",
   "execution_count": null,
   "id": "fdde65bc",
   "metadata": {
    "colab": {
     "base_uri": "https://localhost:8080/",
     "height": 51
    },
    "id": "fdde65bc",
    "outputId": "80a81a89-0672-4812-a264-24e5014b059f"
   },
   "outputs": [],
   "source": [
    "valeur = 8\n",
    "print(valeur < 0)\n",
    "\n",
    "if valeur < 0:\n",
    "  print('négatif')"
   ]
  },
  {
   "cell_type": "markdown",
   "id": "2be8ed21",
   "metadata": {
    "id": "2be8ed21"
   },
   "source": [
    "Cela permet de développer des algorithmes avec des mélanges d'opéations Logiques et d'opérations de comparaisons. Par exemple : *si il fait beau et qu'il faut chaud, alors j'irai me baigner*"
   ]
  },
  {
   "cell_type": "code",
   "execution_count": null,
   "id": "972815a5",
   "metadata": {
    "colab": {
     "base_uri": "https://localhost:8080/",
     "height": 34
    },
    "id": "972815a5",
    "outputId": "e8996961-8d44-4da2-d7ae-45c8798dd543"
   },
   "outputs": [],
   "source": [
    "x = 3\n",
    "y = 4 \n",
    "if (x>0) and (y>0):\n",
    "  print('x et y sont positifs')\n",
    "else:\n",
    "  print('x et y ne sont pas tous les 2 positifs')"
   ]
  },
  {
   "cell_type": "markdown",
   "id": "46dd62fe",
   "metadata": {
    "id": "46dd62fe"
   },
   "source": [
    "## **<span style=\"color:#1c4587;\">Boucle For </span>**"
   ]
  },
  {
   "cell_type": "markdown",
   "id": "dd904ff9",
   "metadata": {
    "id": "dd904ff9"
   },
   "source": [
    "Une boucle `for` permet de créer des algorithmes itératifs (qui effectuent une certaine tache plusieurs fois de suite). Pour ca, la boucle parcourt tous les éléments d'un objet dit **itérable**. Il peut s'agir d'une liste, d'un dictionnaire, d'un range, d'un tableau numpy, ou de bien d'autres objets..."
   ]
  },
  {
   "cell_type": "code",
   "execution_count": null,
   "id": "58bf2627",
   "metadata": {
    "colab": {
     "base_uri": "https://localhost:8080/",
     "height": 187
    },
    "id": "58bf2627",
    "outputId": "6c890d52-f5fe-4ed7-e674-314687a88d70"
   },
   "outputs": [],
   "source": [
    "# range(début, fin, pas) est une built-in fonction tres utile de python qui retourne un itérable.\n",
    "for i in range(0, 5):\n",
    "  print(i)"
   ]
  },
  {
   "cell_type": "code",
   "execution_count": null,
   "id": "a1149903",
   "metadata": {
    "colab": {
     "base_uri": "https://localhost:8080/",
     "height": 357
    },
    "id": "a1149903",
    "outputId": "87cbbc20-302d-42b3-aa70-c2f8ef4e8ef9"
   },
   "outputs": [],
   "source": [
    "# on peut s'amuser a combiner cette boucle avec notre fonction de tout a l'heure.\n",
    "for i in range(-5, 5, 2):\n",
    "  print(i)\n",
    "  test_du_signe(i)"
   ]
  },
  {
   "cell_type": "markdown",
   "id": "a05e4712",
   "metadata": {
    "id": "a05e4712"
   },
   "source": [
    "## **<span style=\"color:#1c4587;\">Boucle While </span>**"
   ]
  },
  {
   "cell_type": "markdown",
   "id": "451d118c",
   "metadata": {
    "id": "451d118c"
   },
   "source": [
    "Une boucle `while` permet d'effectuer en boucle une action, tant que la condition d'execution est validée (tant que la condition est **True**)"
   ]
  },
  {
   "cell_type": "code",
   "execution_count": null,
   "id": "f121d288",
   "metadata": {
    "colab": {
     "base_uri": "https://localhost:8080/",
     "height": 187
    },
    "id": "f121d288",
    "outputId": "cb4df7df-e53c-4a74-ed59-7a83a72f4540"
   },
   "outputs": [],
   "source": [
    "x = 0\n",
    "while x < 5:\n",
    "  print(x)\n",
    "  x += 1 # incrémente x de 1 (équivalent de x = x+1)"
   ]
  },
  {
   "cell_type": "markdown",
   "id": "200b338c",
   "metadata": {
    "id": "200b338c"
   },
   "source": [
    "<a href=\"#toc\" role=\"button\" aria-pressed=\"true\" >⬆️Back to Table of Contents ⬆️</a>"
   ]
  },
  {
   "cell_type": "markdown",
   "id": "331a2c09",
   "metadata": {
    "id": "331a2c09"
   },
   "source": [
    "<a id=\"3\"></a>\n",
    "# **<center><span style=\"color:#01c9e0;\">3. Structures de données </span></center>**"
   ]
  },
  {
   "cell_type": "markdown",
   "id": "19c2af73",
   "metadata": {
    "id": "19c2af73"
   },
   "source": [
    "## **<span style=\"color:#1c4587;\">Création de Listes et de Tuples </span>**"
   ]
  },
  {
   "cell_type": "markdown",
   "id": "c94dd1b5",
   "metadata": {
    "id": "c94dd1b5"
   },
   "source": [
    "Une `liste` ou un `tuple` peuvent contenir tout types de valeurs (int, float, bool, string). On dit que ce sont des structures hétérogenes.\n",
    "\n",
    "La différence entre les 2 est qu'une liste est **mutable** alors qu'un Tuple ne l'est pas (on ne peut pas le changer apres qu'il soit crée)"
   ]
  },
  {
   "cell_type": "code",
   "execution_count": null,
   "id": "0baa7656",
   "metadata": {
    "id": "0baa7656"
   },
   "outputs": [],
   "source": [
    "# Listes\n",
    "liste_1 = [5, 10, 15, 20, 25, 30]\n",
    "villes = ['Cotonou', 'Lomé', 'Abidjan', 'Dakar']\n",
    "nested_list = [liste_1, villes] # une liste peut meme contenir des listes ! On appelle cela une nested list"
   ]
  },
  {
   "cell_type": "code",
   "execution_count": null,
   "id": "d4a2e7ec",
   "metadata": {
    "colab": {
     "base_uri": "https://localhost:8080/",
     "height": 34
    },
    "id": "d4a2e7ec",
    "outputId": "9eb5c9e1-ecef-4560-8e22-318e683a3d9d"
   },
   "outputs": [],
   "source": [
    "print(liste_1)\n",
    "print(villes)\n",
    "print(nested_list)"
   ]
  },
  {
   "cell_type": "markdown",
   "id": "9d300cc6",
   "metadata": {
    "id": "9d300cc6"
   },
   "source": [
    "## **<span style=\"color:#1c4587;\">Indexing et Slicing</span>**"
   ]
  },
  {
   "cell_type": "markdown",
   "id": "6864d87d",
   "metadata": {
    "id": "6864d87d"
   },
   "source": [
    "Dans une séquence, chaque élément est rangé selon un **index** (le premier index étant l'index 0)\n",
    "\n",
    "Pour acceder a un élément d'une liste ou d'un tuple, on utilise une technique appelée **Indexing**\n",
    "\n",
    "Pour acceder a plusieurs éléments d'une liste ou d'un tuple, on utilie une technique appelée **Slicing**"
   ]
  },
  {
   "cell_type": "code",
   "execution_count": null,
   "id": "94a7bf0e",
   "metadata": {
    "colab": {
     "base_uri": "https://localhost:8080/",
     "height": 85
    },
    "id": "94a7bf0e",
    "outputId": "a642c0a2-9906-4478-f0e1-3c766f32dbd8"
   },
   "outputs": [],
   "source": [
    "# INDEXING\n",
    "print('séquence complete:', villes)\n",
    "print('index 0:', villes[0])\n",
    "print('index 1:', villes[1])\n",
    "print('dernier index (-1):', villes[-1])"
   ]
  },
  {
   "cell_type": "code",
   "execution_count": null,
   "id": "18ce9be5",
   "metadata": {
    "colab": {
     "base_uri": "https://localhost:8080/",
     "height": 85
    },
    "id": "18ce9be5",
    "outputId": "39855646-5c98-4c97-cac4-fec5c2b9428d"
   },
   "outputs": [],
   "source": [
    "# SLICING [début (inclus) : fin (exclus) : pas]\n",
    "print('séquence complete:', villes)\n",
    "print('index 0-2:', villes[0:3])\n",
    "print('index 1-2:', villes[1:3])\n",
    "print('ordre inverse:', villes[::-1])"
   ]
  },
  {
   "cell_type": "code",
   "execution_count": null,
   "id": "9cd25bbf",
   "metadata": {
    "id": "9cd25bbf",
    "outputId": "93b026d9-17e0-4914-91a5-3bc5b3053f76"
   },
   "outputs": [],
   "source": [
    "villes = ['Cotonou', 'Lomé', 'Abidjan', 'Dakar'] # liste initiale\n",
    "print(villes)"
   ]
  },
  {
   "cell_type": "code",
   "execution_count": null,
   "id": "567da065",
   "metadata": {
    "id": "567da065",
    "outputId": "e68e688a-9481-4daf-ce04-999f52fa140b"
   },
   "outputs": [],
   "source": [
    "villes.append('Bamako') # Rajoute un élément a la fin de la liste\n",
    "print(villes)"
   ]
  },
  {
   "cell_type": "code",
   "execution_count": null,
   "id": "bf3e07fe",
   "metadata": {
    "id": "bf3e07fe",
    "outputId": "2380d71a-71a3-44c7-bcfb-3981724af9e1"
   },
   "outputs": [],
   "source": [
    "villes.insert(2, 'Conakry') # Rajoute un élément a l'index indiqué\n",
    "print(villes)"
   ]
  },
  {
   "cell_type": "code",
   "execution_count": null,
   "id": "4f0f716e",
   "metadata": {
    "id": "4f0f716e",
    "outputId": "a4f6deda-c717-45bc-d4b3-b582da3d6bb2"
   },
   "outputs": [],
   "source": [
    "villes.extend(['Kinshasa', 'Yaoundé']) # Rajoute une liste a la fin de notre liste\n",
    "print(villes)"
   ]
  },
  {
   "cell_type": "code",
   "execution_count": null,
   "id": "a268e03a",
   "metadata": {
    "id": "a268e03a",
    "outputId": "c468b9b1-5248-4d6c-a850-4bd8394ff29c"
   },
   "outputs": [],
   "source": [
    "print('longeur de la liste:', len(villes)) #affiche la longueur de la liste"
   ]
  },
  {
   "cell_type": "code",
   "execution_count": null,
   "id": "5e56d0ba",
   "metadata": {
    "id": "5e56d0ba",
    "outputId": "8cf737c2-6ce4-403e-881f-160e19624606"
   },
   "outputs": [],
   "source": [
    "villes.sort(reverse=False) # trie la liste par ordre alphabétique / numérique\n",
    "print(villes)"
   ]
  },
  {
   "cell_type": "code",
   "execution_count": null,
   "id": "00aa459a",
   "metadata": {
    "id": "00aa459a",
    "outputId": "5704117e-5f97-4c4f-f2fc-f2c9ae321389"
   },
   "outputs": [],
   "source": [
    "print(villes.count('Cotonou')) # compte le nombre de fois qu'un élément apparait dans la liste"
   ]
  },
  {
   "cell_type": "markdown",
   "id": "688e293b",
   "metadata": {
    "id": "688e293b"
   },
   "source": [
    "Les listes et les tuples fonctionnent en harmonies avec les structures de controle **if/else** et **For**"
   ]
  },
  {
   "cell_type": "code",
   "execution_count": null,
   "id": "27e75fcb",
   "metadata": {
    "colab": {
     "base_uri": "https://localhost:8080/",
     "height": 34
    },
    "id": "27e75fcb",
    "outputId": "117ddbc4-cfa8-4de5-bdc2-6e8417604a5c"
   },
   "outputs": [],
   "source": [
    "if 'Dakar' in villes:\n",
    "  print('oui')\n",
    "else:\n",
    "  print('non')"
   ]
  },
  {
   "cell_type": "code",
   "execution_count": null,
   "id": "4cbbfb56",
   "metadata": {
    "colab": {
     "base_uri": "https://localhost:8080/",
     "height": 153
    },
    "id": "4cbbfb56",
    "outputId": "34f919cf-1d0e-43cb-9bc4-19281d9d8872"
   },
   "outputs": [],
   "source": [
    "for element in villes:\n",
    "  print(element)"
   ]
  },
  {
   "cell_type": "markdown",
   "id": "ffd7f295",
   "metadata": {
    "id": "ffd7f295"
   },
   "source": [
    "La fonction **enumerate** est tres utile pour sortir a la fois les éléments d'une liste et leurs **index**. "
   ]
  },
  {
   "cell_type": "code",
   "execution_count": null,
   "id": "7a58828e",
   "metadata": {
    "colab": {
     "base_uri": "https://localhost:8080/",
     "height": 153
    },
    "id": "7a58828e",
    "outputId": "579039b4-91a6-4f8a-bfcd-e9d2adee574d"
   },
   "outputs": [],
   "source": [
    "for index, element in enumerate(villes):\n",
    "  print(index, element)"
   ]
  },
  {
   "cell_type": "markdown",
   "id": "1997e0fd",
   "metadata": {
    "id": "1997e0fd"
   },
   "source": [
    "## **<span style=\"color:#1c4587;\">Dictionnaires</span>**"
   ]
  },
  {
   "cell_type": "markdown",
   "id": "7bfcdd0b",
   "metadata": {
    "id": "7bfcdd0b"
   },
   "source": [
    "Les `dictionnaires` sont des structures de controle **non-ordonnées**, c'est-a-dire que les valeurs qu'ils contiennent ne sont pas rangée selon un index, mais suivant une **clef unique**.\n",
    "\n",
    "Une utilisation parfaite des dictionnaires est pour regrouper ensemble des \"variables\" dans un meme conténaire. (ces variables ne sont pas de vraies variables, mais des **keys**).\n",
    "\n",
    "*On peut par exemple crée un dictionnaire inventaire qui regroupe plusieurs produits (les clefs) et leur quantités (les valeurs)*"
   ]
  },
  {
   "cell_type": "code",
   "execution_count": null,
   "id": "04e35e46",
   "metadata": {
    "id": "04e35e46"
   },
   "outputs": [],
   "source": [
    "inventaire = {'pommes': 100,\n",
    "              'bananes': 80,\n",
    "              'poires': 120}"
   ]
  },
  {
   "cell_type": "code",
   "execution_count": null,
   "id": "9a3a7285",
   "metadata": {
    "colab": {
     "base_uri": "https://localhost:8080/",
     "height": 34
    },
    "id": "9a3a7285",
    "outputId": "c44e65a3-4efa-4d94-e0a3-c64872120894"
   },
   "outputs": [],
   "source": [
    "inventaire.values()"
   ]
  },
  {
   "cell_type": "code",
   "execution_count": null,
   "id": "4f47765a",
   "metadata": {
    "colab": {
     "base_uri": "https://localhost:8080/",
     "height": 34
    },
    "id": "4f47765a",
    "outputId": "b829279b-d0cd-4df5-c4a1-57b1b5d1ea35"
   },
   "outputs": [],
   "source": [
    "inventaire.keys()"
   ]
  },
  {
   "cell_type": "code",
   "execution_count": null,
   "id": "2a356a98",
   "metadata": {
    "colab": {
     "base_uri": "https://localhost:8080/",
     "height": 163
    },
    "id": "2a356a98",
    "outputId": "fef58cfb-e270-45f8-9d85-386d36ca86cf"
   },
   "outputs": [],
   "source": [
    "len(inventaire)"
   ]
  },
  {
   "cell_type": "markdown",
   "id": "ee44d6f6",
   "metadata": {
    "id": "ee44d6f6"
   },
   "source": [
    "Voici comment ajouter une association key/value dans notre dictionnaire (attention si la clef existe déja elle est remplacée)"
   ]
  },
  {
   "cell_type": "code",
   "execution_count": null,
   "id": "80b2baab",
   "metadata": {
    "colab": {
     "base_uri": "https://localhost:8080/",
     "height": 34
    },
    "id": "80b2baab",
    "outputId": "da888bd9-4c15-499c-c171-306d2dafb9eb"
   },
   "outputs": [],
   "source": [
    "inventaire['abricots'] = 30\n",
    "print(inventaire)"
   ]
  },
  {
   "cell_type": "markdown",
   "id": "3f612e59",
   "metadata": {
    "id": "3f612e59"
   },
   "source": [
    "Attention : si vous cherchez une clef qui n'existe pas dans un dictionnaire, python vous retourne une erreur. Pour éviter cela, vous pouvez utiliser la méthode **get()**"
   ]
  },
  {
   "cell_type": "code",
   "execution_count": null,
   "id": "b739cac1",
   "metadata": {
    "id": "b739cac1"
   },
   "outputs": [],
   "source": [
    "inventaire.get('peches') # n'existe pas"
   ]
  },
  {
   "cell_type": "code",
   "execution_count": null,
   "id": "ab2a4507",
   "metadata": {
    "colab": {
     "base_uri": "https://localhost:8080/",
     "height": 34
    },
    "id": "ab2a4507",
    "outputId": "28332b9a-6ae8-4196-e464-117f74f0b2d7"
   },
   "outputs": [],
   "source": [
    "inventaire.get('pommes') # pomme existe"
   ]
  },
  {
   "cell_type": "markdown",
   "id": "57411592",
   "metadata": {
    "id": "57411592"
   },
   "source": [
    "la méthode **pop()** permet de retirer une clef d'un dictionnaire tout en retournant la valeur associée a la clef."
   ]
  },
  {
   "cell_type": "code",
   "execution_count": null,
   "id": "e07223a0",
   "metadata": {
    "colab": {
     "base_uri": "https://localhost:8080/",
     "height": 51
    },
    "id": "e07223a0",
    "outputId": "b8f4a6a6-7e3f-4e3e-cb09-328ff4c24373"
   },
   "outputs": [],
   "source": [
    "abricots = inventaire.pop(\"abricots\")\n",
    "print(inventaire) # ne contient plus de clef abricots\n",
    "print(abricots) # abricots contient la valeur du dictionnaire"
   ]
  },
  {
   "cell_type": "markdown",
   "id": "b83a820d",
   "metadata": {
    "id": "b83a820d"
   },
   "source": [
    "Pour utiliser une boucle for avec un dictionnaire, il est utile d'utiliser la méthode **items()** qui retourne a la fois les clefs et les valeurs"
   ]
  },
  {
   "cell_type": "code",
   "execution_count": null,
   "id": "c0d2ea7b",
   "metadata": {
    "colab": {
     "base_uri": "https://localhost:8080/",
     "height": 68
    },
    "id": "c0d2ea7b",
    "outputId": "69707cdc-8127-451e-c6ea-73942f0f1128"
   },
   "outputs": [],
   "source": [
    "for key, value in inventaire.items():\n",
    "  print(key, value)"
   ]
  },
  {
   "cell_type": "markdown",
   "id": "84fcef58",
   "metadata": {
    "id": "84fcef58"
   },
   "source": [
    "## **<span style=\"color:#1c4587;\">List Comprehension</span>**"
   ]
  },
  {
   "cell_type": "markdown",
   "id": "8aff50d8",
   "metadata": {
    "id": "8aff50d8"
   },
   "source": [
    "Les `listes comprehension` sont une facon habile de créer des listes sur une seule ligne de code, ce qui rend le code beaucoup plus rapide (car python est un langage assez lent)"
   ]
  },
  {
   "cell_type": "code",
   "execution_count": null,
   "id": "02807108",
   "metadata": {
    "id": "02807108"
   },
   "outputs": [],
   "source": [
    "liste = []\n",
    "for i in range(15):\n",
    "  liste.append(i**2)"
   ]
  },
  {
   "cell_type": "code",
   "execution_count": null,
   "id": "5218fdcb",
   "metadata": {
    "id": "5218fdcb",
    "outputId": "d1eb96fa-3d8a-4fee-9c96-5b497787a048"
   },
   "outputs": [],
   "source": [
    "liste"
   ]
  },
  {
   "cell_type": "markdown",
   "id": "ec2f4dea",
   "metadata": {
    "id": "ec2f4dea"
   },
   "source": [
    "On peut rajouter des conditions **if** dans les listes comprehension, par exemple :"
   ]
  },
  {
   "cell_type": "code",
   "execution_count": null,
   "id": "93d770ab",
   "metadata": {
    "colab": {
     "base_uri": "https://localhost:8080/",
     "height": 34
    },
    "id": "93d770ab",
    "outputId": "71ef2147-1333-4a38-aedc-f9a5874f7e2b"
   },
   "outputs": [],
   "source": [
    "liste = [i**2 for i in range(15) if (i % 2) == 0] # calcule i**2 seulement pour les nombres pairs.\n",
    "\n",
    "print(liste[:5]) #affiche les 5 premiers éléments de la liste"
   ]
  },
  {
   "cell_type": "markdown",
   "id": "f988b14a",
   "metadata": {
    "id": "f988b14a"
   },
   "source": [
    "<a href=\"#toc\" role=\"button\" aria-pressed=\"true\" >⬆️Back to Table of Contents ⬆️</a>"
   ]
  },
  {
   "cell_type": "markdown",
   "id": "55259fa2",
   "metadata": {
    "id": "55259fa2"
   },
   "source": [
    "<a id=\"4\"></a>\n",
    "# **<center><span style=\"color:#01c9e0;\">4. Built-in Functions </span></center>**"
   ]
  },
  {
   "cell_type": "markdown",
   "id": "3c5f315d",
   "metadata": {
    "id": "3c5f315d"
   },
   "source": [
    "Python contient un grand nombre de fonctions intégrées tres utiles a connaitre. Cela vous permet de construire des codes plus rapidement, sans avoir a développer vos propres fonctions pour les taches les plus basique. Dans ce notebook, je vous montre les plus importantes :\n",
    "\n",
    "- Fonctions de bases : `abs()`, `round()`, `max()`, `min()`, `len()`, `sum()`, `any()`, `all()`\n",
    "- Conversions de types de variables: `int()`, `str()`, `float()`, `type()`\n",
    "- Conversions de structures de données: `list()`, `tuple()`\n",
    "- Conversions binaires : `bin()`, `oct()`, `hex()` \n",
    "- Fonction `input()`\n",
    "- Fonction `format()` `(f-string)`\n",
    "- Fonction `open()`"
   ]
  },
  {
   "cell_type": "markdown",
   "id": "d1045a65",
   "metadata": {
    "id": "d1045a65"
   },
   "source": [
    "## **<span style=\"color:#1c4587;\">Fonction de bases</span>**"
   ]
  },
  {
   "cell_type": "markdown",
   "id": "0de9a36f",
   "metadata": {
    "id": "0de9a36f"
   },
   "source": [
    "Utiles en toute circonstance !"
   ]
  },
  {
   "cell_type": "code",
   "execution_count": null,
   "id": "4f2b3c6a",
   "metadata": {
    "colab": {
     "base_uri": "https://localhost:8080/",
     "height": 51
    },
    "id": "4f2b3c6a",
    "outputId": "c6a56073-a7b7-40b9-cdeb-114e9a607ce1"
   },
   "outputs": [],
   "source": [
    "x = -5.64\n",
    "print(abs(x)) # valeur absolue\n",
    "print(round(x)) # arrondi"
   ]
  },
  {
   "cell_type": "code",
   "execution_count": null,
   "id": "3eb2a5d4",
   "metadata": {
    "colab": {
     "base_uri": "https://localhost:8080/",
     "height": 85
    },
    "id": "3eb2a5d4",
    "outputId": "349fb051-30e0-4366-8411-2e994071c9bb"
   },
   "outputs": [],
   "source": [
    "liste = [-2, 3, 1, 0, -4]\n",
    "\n",
    "print(min(liste)) # minimum\n",
    "print(max(liste)) # maximum\n",
    "print(len(liste)) # longueur\n",
    "print(sum(liste)) # somme des éléments"
   ]
  },
  {
   "cell_type": "code",
   "execution_count": null,
   "id": "0dbb91f3",
   "metadata": {
    "colab": {
     "base_uri": "https://localhost:8080/",
     "height": 51
    },
    "id": "0dbb91f3",
    "outputId": "a155cc37-193e-458c-b8af-132bb972ed4b"
   },
   "outputs": [],
   "source": [
    "liste = [False, False, True]\n",
    "\n",
    "print(any(liste)) # y-a-t'il au moins un élément True ?\n",
    "print(all(liste)) # est-ce-que tous les éléments sont True ?"
   ]
  },
  {
   "cell_type": "markdown",
   "id": "05bedd84",
   "metadata": {
    "id": "05bedd84"
   },
   "source": [
    "## **<span style=\"color:#1c4587;\">Fonction de conversion</span>**"
   ]
  },
  {
   "cell_type": "markdown",
   "id": "464bc809",
   "metadata": {
    "id": "464bc809"
   },
   "source": [
    "Il peut etre tres utile de convertir une variable d'un type a un autre (par exemple pour faire des calculs). Pour cela, on dispose des fonctions int(), str() et float().\n",
    "\n",
    "La fonction **type()** est tres utile pour inspecter les types de nos variables"
   ]
  },
  {
   "cell_type": "code",
   "execution_count": null,
   "id": "64a2e8b5",
   "metadata": {
    "colab": {
     "base_uri": "https://localhost:8080/",
     "height": 34
    },
    "id": "64a2e8b5",
    "outputId": "b7d86d2a-ac56-4165-80cd-4c98e19f6d04"
   },
   "outputs": [],
   "source": [
    "age = '32'\n",
    "type(age)"
   ]
  },
  {
   "cell_type": "code",
   "execution_count": null,
   "id": "06c1044e",
   "metadata": {
    "colab": {
     "base_uri": "https://localhost:8080/",
     "height": 34
    },
    "id": "06c1044e",
    "outputId": "f0a8a95c-d0cb-4551-9f08-a4021a68ed93"
   },
   "outputs": [],
   "source": [
    "age = int(age)\n",
    "type(age)"
   ]
  },
  {
   "cell_type": "code",
   "execution_count": null,
   "id": "89b8f5f0",
   "metadata": {
    "colab": {
     "base_uri": "https://localhost:8080/",
     "height": 34
    },
    "id": "89b8f5f0",
    "outputId": "cef6fe90-15f3-40ad-9239-e742c56db63c"
   },
   "outputs": [],
   "source": [
    "age + 10"
   ]
  },
  {
   "cell_type": "markdown",
   "id": "5d97e50a",
   "metadata": {
    "id": "5d97e50a"
   },
   "source": [
    "On peut également convertir des listes en tuples, ou des tableaux Numpy "
   ]
  },
  {
   "cell_type": "code",
   "execution_count": null,
   "id": "cac00502",
   "metadata": {
    "colab": {
     "base_uri": "https://localhost:8080/",
     "height": 34
    },
    "id": "cac00502",
    "outputId": "b0e48c93-f717-427e-be8c-83864da48fdd"
   },
   "outputs": [],
   "source": [
    "tuple_1 = (1, 2, 3, 4)\n",
    "\n",
    "liste_1 = list(tuple_1) # convertir un tuple en liste\n",
    "\n",
    "type(liste_1)"
   ]
  },
  {
   "cell_type": "markdown",
   "id": "cf4944bd",
   "metadata": {
    "id": "cf4944bd"
   },
   "source": [
    "## **<span style=\"color:#1c4587;\">La fonction input()</span>**"
   ]
  },
  {
   "cell_type": "markdown",
   "id": "eafa4709",
   "metadata": {
    "id": "eafa4709"
   },
   "source": [
    "Cette fonction est tres utile pour demander a l'utilisateur du programme d'entrer une valeur dans votre programme"
   ]
  },
  {
   "cell_type": "code",
   "execution_count": null,
   "id": "b875ebc9",
   "metadata": {
    "colab": {
     "base_uri": "https://localhost:8080/",
     "height": 34
    },
    "id": "b875ebc9",
    "outputId": "4535b183-4540-477d-c649-e0446c75d2a8"
   },
   "outputs": [],
   "source": [
    "age = input('quel age avez-vous ?')"
   ]
  },
  {
   "cell_type": "code",
   "execution_count": null,
   "id": "eb890168",
   "metadata": {
    "colab": {
     "base_uri": "https://localhost:8080/",
     "height": 34
    },
    "id": "eb890168",
    "outputId": "2df066f9-12a1-4ba5-dc82-05cc376598f2"
   },
   "outputs": [],
   "source": [
    "type(age) # age est de type string. il faut penser a le convertir si on désire faire un calcul avec"
   ]
  },
  {
   "cell_type": "markdown",
   "id": "a0fcb3d1",
   "metadata": {
    "id": "a0fcb3d1"
   },
   "source": [
    "## **<span style=\"color:#1c4587;\">La fonction format()</span>**"
   ]
  },
  {
   "cell_type": "markdown",
   "id": "9a95b371",
   "metadata": {
    "id": "9a95b371"
   },
   "source": [
    "Cette fonction permet d'insérer la valeur d'une variable au sein d'une chaine de cacacteres (string).\n",
    "\n",
    "Une méthode plus rapide pour utiliser cette fonction est de faire appel au **f-string**"
   ]
  },
  {
   "cell_type": "code",
   "execution_count": null,
   "id": "0d3d3f09",
   "metadata": {
    "colab": {
     "base_uri": "https://localhost:8080/",
     "height": 34
    },
    "id": "0d3d3f09",
    "outputId": "e4e51b60-5b8d-422b-a1c8-2d26fa34f4e0"
   },
   "outputs": [],
   "source": [
    "x = 25\n",
    "ville = 'Cotonou'\n",
    "\n",
    "message = 'il fait {} degrés a {}'.format(x, ville)\n",
    "print(message)"
   ]
  },
  {
   "cell_type": "code",
   "execution_count": null,
   "id": "ee491469",
   "metadata": {
    "colab": {
     "base_uri": "https://localhost:8080/",
     "height": 34
    },
    "id": "ee491469",
    "outputId": "45d10f11-4183-4daa-852c-3b86dac38002"
   },
   "outputs": [],
   "source": [
    "message = f'il fait {x} degrées a {ville}'\n",
    "print(message)"
   ]
  },
  {
   "cell_type": "markdown",
   "id": "4de39c86",
   "metadata": {
    "id": "4de39c86"
   },
   "source": [
    "## **<span style=\"color:#1c4587;\">La fonction open()</span>**"
   ]
  },
  {
   "cell_type": "markdown",
   "id": "6fad84fa",
   "metadata": {
    "id": "6fad84fa"
   },
   "source": [
    "Cette fonction est l'une des plus utile de Python. Elle permet d'ouvrir n'importe quel fichier de votre ordinateur et de l'utiliser dans Python. Différents modes existent :\n",
    "- le mode 'r' : lire un fichier de votre ordinateur\n",
    "- le mode 'w' : écrire un fichier sur votre ordinateur\n",
    "- le mode 'a' : (append) ajouter du contenu dans un fichier existant"
   ]
  },
  {
   "cell_type": "code",
   "execution_count": null,
   "id": "92e1d9bb",
   "metadata": {
    "id": "92e1d9bb"
   },
   "outputs": [],
   "source": [
    "f = open('text.txt', 'w') # ouverture d'un objet fichier f\n",
    "f.write('bonjour')\n",
    "f.close() # il faut fermer notre fichier une fois le travail terminé"
   ]
  },
  {
   "cell_type": "code",
   "execution_count": null,
   "id": "9c101d9e",
   "metadata": {
    "colab": {
     "base_uri": "https://localhost:8080/",
     "height": 34
    },
    "id": "9c101d9e",
    "outputId": "c94ca820-e42b-47d4-8840-425110ad62ef"
   },
   "outputs": [],
   "source": [
    "f = open('text.txt', 'r')\n",
    "print(f.read())\n",
    "f.close() "
   ]
  },
  {
   "cell_type": "markdown",
   "id": "e4668ec5",
   "metadata": {
    "id": "e4668ec5"
   },
   "source": [
    "Dans la pratique, on écrit plus souvent **with open() as f** pour ne pas avoir a fermer le fichier une fois le travail effectué :"
   ]
  },
  {
   "cell_type": "code",
   "execution_count": null,
   "id": "60cc93dd",
   "metadata": {
    "colab": {
     "base_uri": "https://localhost:8080/",
     "height": 34
    },
    "id": "60cc93dd",
    "outputId": "74c9c575-68f2-4250-82b5-eca1c73669ee"
   },
   "outputs": [],
   "source": [
    "with open('text.txt', 'r') as f:\n",
    "    print(f.read())"
   ]
  },
  {
   "cell_type": "markdown",
   "id": "a910e23b",
   "metadata": {
    "id": "a910e23b"
   },
   "source": [
    "<a href=\"#toc\" role=\"button\" aria-pressed=\"true\" >⬆️Back to Table of Contents ⬆️</a>"
   ]
  },
  {
   "cell_type": "markdown",
   "id": "c17f1f0f",
   "metadata": {
    "id": "c17f1f0f"
   },
   "source": [
    "<a id=\"5\"></a>\n",
    "# **<center><span style=\"color:#01c9e0;\">5. Packages de bases </span></center>**"
   ]
  },
  {
   "cell_type": "markdown",
   "id": "8f20e18c",
   "metadata": {
    "id": "8f20e18c"
   },
   "source": [
    "Python contient un certains nombre de package. Un package est tout simplement un ensemble de plusieurs modules regroupés entre eux. On va pouvoir importer des paquets de la même façon que des modules et accéder à un module ou à un élément en particulier.\n",
    "\n",
    "Pour importer un package, il faut procéder comme-ci dessous :\n",
    "- **import package** (importe tout le package)\n",
    "- **import package as pck** (donne un surnom au package)\n",
    "- **from package import fonction** (importe une fonction du package)\n"
   ]
  },
  {
   "cell_type": "code",
   "execution_count": null,
   "id": "4ba6aad8",
   "metadata": {
    "id": "4ba6aad8"
   },
   "outputs": [],
   "source": [
    "import pandas as pd\n",
    "import numpy as np\n",
    "import matplotlib.pyplot as plt\n",
    "import seaborn as sns"
   ]
  },
  {
   "cell_type": "markdown",
   "id": "cfd91fbc",
   "metadata": {
    "id": "cfd91fbc"
   },
   "source": [
    "## **<span style=\"color:#1c4587;\">Pandas</span>**"
   ]
  },
  {
   "cell_type": "markdown",
   "id": "e94d5c81",
   "metadata": {
    "id": "e94d5c81"
   },
   "source": [
    "**PANDAS** est un package de manipulation et d'analyse de données.\n",
    "\n",
    "* Documentation : pandas.pydata.org\n"
   ]
  },
  {
   "cell_type": "code",
   "execution_count": null,
   "id": "f55c67ec",
   "metadata": {
    "id": "f55c67ec"
   },
   "outputs": [],
   "source": [
    "pop = [4.4, 3.5, 1.7, 1.2, 1.1, 17, 1.4, 2.8]"
   ]
  },
  {
   "cell_type": "code",
   "execution_count": null,
   "id": "a4042b06",
   "metadata": {
    "id": "a4042b06"
   },
   "outputs": [],
   "source": [
    "df = pd.DataFrame(pop, columns = ['value']) "
   ]
  },
  {
   "cell_type": "code",
   "execution_count": null,
   "id": "911a3682",
   "metadata": {
    "colab": {
     "base_uri": "https://localhost:8080/",
     "height": 51
    },
    "id": "911a3682",
    "outputId": "992c6517-76de-4240-a043-1a3a199bcfd4"
   },
   "outputs": [],
   "source": [
    "df.head(3) #afficher les 3 premières valeurs d'un dataset"
   ]
  },
  {
   "cell_type": "code",
   "execution_count": null,
   "id": "d0d956f1",
   "metadata": {
    "id": "d0d956f1",
    "outputId": "daf585a3-832e-4e78-93d1-48643f5d8642"
   },
   "outputs": [],
   "source": [
    "df.info() #résumer des valeurs d'un dataset"
   ]
  },
  {
   "cell_type": "code",
   "execution_count": null,
   "id": "c405a7bb",
   "metadata": {
    "id": "c405a7bb",
    "outputId": "d9c604c6-0cf4-4ad0-f119-5b5a4e695de8"
   },
   "outputs": [],
   "source": [
    "df.describe() #description d'un dataset"
   ]
  },
  {
   "cell_type": "markdown",
   "id": "8646d5b5",
   "metadata": {
    "id": "8646d5b5"
   },
   "source": [
    "## **<span style=\"color:#1c4587;\">Numpy</span>**"
   ]
  },
  {
   "cell_type": "markdown",
   "id": "0d7f39c6",
   "metadata": {
    "id": "0d7f39c6"
   },
   "source": [
    "**NUMPY** est un package permettant de manipuler des matrices ou des tableaux multidimensionnels\n",
    "\n",
    "* Documentation : numpy.org"
   ]
  },
  {
   "cell_type": "code",
   "execution_count": null,
   "id": "b9f021d4",
   "metadata": {
    "id": "b9f021d4"
   },
   "outputs": [],
   "source": [
    "array = np.array([[[0, 1, 2, 3],\n",
    "                   [4, 5, 6, 7]],\n",
    "\n",
    "                   [[0, 1, 2, 3],\n",
    "                   [4, 5, 6, 7]],\n",
    "\n",
    "                   [[0, 1, 2, 3],\n",
    "                   [4, 5, 6, 7]]])"
   ]
  },
  {
   "cell_type": "code",
   "execution_count": null,
   "id": "1d08f798",
   "metadata": {
    "id": "1d08f798",
    "outputId": "9715773a-cd6d-4edd-c483-114b219348f8"
   },
   "outputs": [],
   "source": [
    "array.ndim #Déterminer le nombre de dimeension de notre matrices"
   ]
  },
  {
   "cell_type": "code",
   "execution_count": null,
   "id": "7b8c3c96",
   "metadata": {
    "colab": {
     "base_uri": "https://localhost:8080/",
     "height": 51
    },
    "id": "7b8c3c96",
    "outputId": "992c6517-76de-4240-a043-1a3a199bcfd4"
   },
   "outputs": [],
   "source": [
    "array.size #déterminer le nombre d'éléments dans la matrice"
   ]
  },
  {
   "cell_type": "code",
   "execution_count": null,
   "id": "2040a027",
   "metadata": {
    "id": "2040a027",
    "outputId": "e659a8b4-4e81-406c-b43e-cbf27b21acae"
   },
   "outputs": [],
   "source": [
    "np.zeros(5) #cree une matrice de zéros"
   ]
  },
  {
   "cell_type": "markdown",
   "id": "b4cdaf21",
   "metadata": {
    "id": "b4cdaf21"
   },
   "source": [
    "## **<span style=\"color:#1c4587;\">Matplotlib</span>**"
   ]
  },
  {
   "cell_type": "markdown",
   "id": "c82fb81d",
   "metadata": {
    "id": "c82fb81d"
   },
   "source": [
    "**MATPLOTLIB** est un package permettant de tracer et de visualiser des données sous forme de graphiques.\n",
    "\n",
    "* Documentation : matplotlib.org"
   ]
  },
  {
   "cell_type": "code",
   "execution_count": null,
   "id": "6fb2d77c",
   "metadata": {
    "id": "6fb2d77c",
    "outputId": "1bc1d6a1-7390-4579-9793-e43206f7b4ab"
   },
   "outputs": [],
   "source": [
    "np.random.seed(3)\n",
    "x = 0.5 + np.arange(8)\n",
    "y = np.random.uniform(2, 7, len(x))\n",
    "\n",
    "# barplot\n",
    "fig, ax = plt.subplots()\n",
    "\n",
    "ax.bar(x, y, width=1, edgecolor=\"white\", linewidth=0.7)\n",
    "\n",
    "ax.set(xlim=(0, 8), xticks=np.arange(1, 8),\n",
    "       ylim=(0, 8), yticks=np.arange(1, 8))\n",
    "\n",
    "plt.show()"
   ]
  },
  {
   "cell_type": "code",
   "execution_count": null,
   "id": "bc431ac9",
   "metadata": {
    "colab": {
     "base_uri": "https://localhost:8080/",
     "height": 51
    },
    "id": "bc431ac9",
    "outputId": "992c6517-76de-4240-a043-1a3a199bcfd4"
   },
   "outputs": [],
   "source": [
    "# make the data\n",
    "np.random.seed(3)\n",
    "x = 4 + np.random.normal(0, 2, 24)\n",
    "y = 4 + np.random.normal(0, 2, len(x))\n",
    "# size and color:\n",
    "sizes = np.random.uniform(15, 80, len(x))\n",
    "colors = np.random.uniform(15, 80, len(x))\n",
    "\n",
    "# plot\n",
    "fig, ax = plt.subplots()\n",
    "\n",
    "ax.scatter(x, y, s=sizes, c=colors, vmin=0, vmax=100)\n",
    "\n",
    "ax.set(xlim=(0, 8), xticks=np.arange(1, 8),\n",
    "       ylim=(0, 8), yticks=np.arange(1, 8))\n",
    "\n",
    "plt.show()"
   ]
  },
  {
   "cell_type": "markdown",
   "id": "c96eb237",
   "metadata": {
    "id": "c96eb237"
   },
   "source": [
    "## **<span style=\"color:#1c4587;\">Seaborn</span>**"
   ]
  },
  {
   "cell_type": "markdown",
   "id": "5fe07c11",
   "metadata": {
    "id": "5fe07c11"
   },
   "source": [
    "**SEABORN** est un package de visualisation de données facile d’utilisation basée sur matplotlib.\n",
    "\n",
    "* Documentation : seaborn.pydata.org"
   ]
  },
  {
   "cell_type": "code",
   "execution_count": null,
   "id": "0ce7b6f2",
   "metadata": {
    "id": "0ce7b6f2",
    "outputId": "5ac43df3-3686-4cc6-979b-50744e538f8b"
   },
   "outputs": [],
   "source": [
    "penguins = sns.load_dataset(\"penguins\")\n",
    "sns.displot(data=penguins, x=\"flipper_length_mm\")"
   ]
  },
  {
   "cell_type": "code",
   "execution_count": null,
   "id": "6d2cf18d",
   "metadata": {
    "id": "6d2cf18d",
    "outputId": "d5265680-6f50-4183-af65-652647bccf4c"
   },
   "outputs": [],
   "source": [
    "corr = np.corrcoef(np.random.randn(10, 200))\n",
    "mask = np.zeros_like(corr)\n",
    "mask[np.triu_indices_from(mask)] = True\n",
    "with sns.axes_style(\"white\"):\n",
    "    f, ax = plt.subplots(figsize=(7, 5))\n",
    "    ax = sns.heatmap(corr, mask=mask, vmax=.3, square=True)"
   ]
  },
  {
   "cell_type": "markdown",
   "id": "314fc95c",
   "metadata": {
    "id": "314fc95c"
   },
   "source": [
    "<a href=\"#toc\" role=\"button\" aria-pressed=\"true\" >⬆️Back to Table of Contents ⬆️</a>"
   ]
  },
  {
   "cell_type": "markdown",
   "id": "35e0dbbe",
   "metadata": {
    "id": "35e0dbbe"
   },
   "source": [
    "<a id=\"5\"></a>\n",
    "# **<center><span style=\"color:#01c9e0;\">6. Exercices </span></center>**"
   ]
  },
  {
   "cell_type": "markdown",
   "id": "414c9e05",
   "metadata": {
    "id": "414c9e05"
   },
   "source": [
    "## **<span style=\"color:#1c4587;\">Exo 1</span>**"
   ]
  },
  {
   "cell_type": "markdown",
   "id": "fddd2349",
   "metadata": {
    "id": "fddd2349"
   },
   "source": [
    "Crée une fonction qui calcul la vitesse moyenne d'un véhicule.\n",
    "\n",
    "Ajoute une structure de controle qui nous permet de savoir si le conducteur fil ou pas \n",
    "\n",
    "**`ASTUCE` : Vitesse_moyenne = distance / temps**"
   ]
  },
  {
   "cell_type": "markdown",
   "id": "93f2e322",
   "metadata": {
    "id": "93f2e322"
   },
   "source": [
    "## **<span style=\"color:#1c4587;\">Exo 2</span>**"
   ]
  },
  {
   "cell_type": "markdown",
   "id": "9fe3ce86",
   "metadata": {
    "id": "9fe3ce86"
   },
   "source": [
    "Crée une fonction qui trie une population en fonction de leur age soit adulte soit mineur\n",
    "\n",
    "**`ASTUCE` : Le code suivant peut etre utile :**"
   ]
  },
  {
   "cell_type": "code",
   "execution_count": null,
   "id": "ca236212",
   "metadata": {
    "id": "ca236212"
   },
   "outputs": [],
   "source": [
    "age = {'adulte':[],\n",
    "       'mineur':[]\n",
    "                  }\n",
    "\n",
    "def trier(age, valeur):\n",
    "  return age"
   ]
  },
  {
   "cell_type": "markdown",
   "id": "77d549f1",
   "metadata": {
    "id": "77d549f1"
   },
   "source": [
    "## **<span style=\"color:#1c4587;\">Exo 3</span>**"
   ]
  },
  {
   "cell_type": "markdown",
   "id": "d7359f75",
   "metadata": {
    "id": "d7359f75"
   },
   "source": [
    "Le code ci-dessous permet de créer un fichier qui contient les nombres carrée de 0 jusqu'a 5.\n",
    "\n",
    "Implémente un code qui permet de lire ce fichier et d'écrire chaque ligne dans une liste.    \n",
    "    \n",
    "**`ASTUCES` :**\n",
    "\n",
    "**La fonction *read().splitlines()* sera tres utile**\n",
    "\n",
    "**Pour un meilleur résultat, essayer d'utiliser une liste comprehension**\n",
    "\n",
    "**Ce bout de code permet d'écrire le fichier**"
   ]
  },
  {
   "cell_type": "code",
   "execution_count": null,
   "id": "cda82a69",
   "metadata": {
    "id": "cda82a69"
   },
   "outputs": [],
   "source": [
    "with open('fichier.txt', 'w') as f:\n",
    "    for i in range(0, 6):\n",
    "        f.write(f'{i}: {i**2} \\n')\n",
    "    f.close()"
   ]
  },
  {
   "cell_type": "markdown",
   "id": "bfe774eb",
   "metadata": {
    "id": "bfe774eb"
   },
   "source": [
    "<a href=\"#toc\" role=\"button\" aria-pressed=\"true\" >⬆️Back to Table of Contents ⬆️</a>"
   ]
  },
  {
   "cell_type": "code",
   "execution_count": null,
   "id": "b87cfdd4",
   "metadata": {
    "id": "b87cfdd4"
   },
   "outputs": [],
   "source": []
  }
 ],
 "metadata": {
  "colab": {
   "name": "Les Bases de Python.ipynb",
   "provenance": []
  },
  "kernelspec": {
   "display_name": "Python 3 (ipykernel)",
   "language": "python",
   "name": "python3"
  },
  "language_info": {
   "codemirror_mode": {
    "name": "ipython",
    "version": 3
   },
   "file_extension": ".py",
   "mimetype": "text/x-python",
   "name": "python",
   "nbconvert_exporter": "python",
   "pygments_lexer": "ipython3",
   "version": "3.9.7"
  }
 },
 "nbformat": 4,
 "nbformat_minor": 5
}
