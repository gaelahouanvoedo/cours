{
 "cells": [
  {
   "cell_type": "markdown",
   "id": "d00ec675",
   "metadata": {},
   "source": [
    "**Créé par Gael AHOUANVOEDO (Fr Session Lead)**\n",
    "\n",
    "**🚀 Les Bases de Python 📊 ALX Udacity Data Analyst NanoDegree 📈**\n",
    "\n",
    "**08 Juillet 2022**"
   ]
  },
  {
   "cell_type": "markdown",
   "id": "5752d771",
   "metadata": {},
   "source": [
    "# **<center><span style=\"color:#01c9e0;\">🚀 LES BASES DE PYTHON 🚀   </span></center>**\n",
    "## <center>Pour plus d'informations contctez moi sur Slack 👍</center>"
   ]
  },
  {
   "cell_type": "markdown",
   "id": "35e0dbbe",
   "metadata": {},
   "source": [
    "<a id=\"5\"></a>\n",
    "# **<center><span style=\"color:#01c9e0;\">Solutions </span></center>**"
   ]
  },
  {
   "cell_type": "markdown",
   "id": "414c9e05",
   "metadata": {},
   "source": [
    "## **<span style=\"color:#1c4587;\">Exo 1</span>**"
   ]
  },
  {
   "cell_type": "markdown",
   "id": "fddd2349",
   "metadata": {},
   "source": [
    "Crée une fonction qui calcul la vitesse moyenne d'un véhicule.\n",
    "\n",
    "Ajoute une structure de controle qui nous permet de savoir si le conducteur fil ou pas \n",
    "\n",
    "**`ASTUCE` : Vitesse_moyenne = distance / temps**"
   ]
  },
  {
   "cell_type": "code",
   "execution_count": 11,
   "id": "db9359fa",
   "metadata": {},
   "outputs": [
    {
     "data": {
      "text/plain": [
       "'Le conducteur roule à 66.66666666666667 km/h, alors il file'"
      ]
     },
     "execution_count": 11,
     "metadata": {},
     "output_type": "execute_result"
    }
   ],
   "source": [
    "def controle_vitesse(distance,temps): \n",
    "    vitesse_moyenne = distance / temps #  calcul de la distance\n",
    "    if vitesse_moyenne <= 60:\n",
    "        return (f'Le conducteur roule à {vitesse_moyenne} km/h, alors il ne file pas')\n",
    "    else:\n",
    "         return (f'Le conducteur roule à {vitesse_moyenne} km/h, alors il file')\n",
    "\n",
    "controle_vitesse(200,3)"
   ]
  },
  {
   "cell_type": "markdown",
   "id": "93f2e322",
   "metadata": {},
   "source": [
    "## **<span style=\"color:#1c4587;\">Exo 2</span>**"
   ]
  },
  {
   "cell_type": "markdown",
   "id": "9fe3ce86",
   "metadata": {},
   "source": [
    "Crée une fonction qui trie une population en fonction de leur age soit adulte soit mineur\n",
    "\n",
    "**`ASTUCE` : Le code suivant peut etre utile :**"
   ]
  },
  {
   "cell_type": "code",
   "execution_count": 1,
   "id": "ca236212",
   "metadata": {},
   "outputs": [],
   "source": [
    "age = {'adulte':[],\n",
    "       'mineur':[]\n",
    "                  }\n",
    "\n",
    "def trier(age, valeur):\n",
    "    if valeur >=18:\n",
    "        age['adulte'].append(valeur)\n",
    "    else:\n",
    "        age['mineur'].append(valeur)\n",
    "    return age"
   ]
  },
  {
   "cell_type": "code",
   "execution_count": 4,
   "id": "a4f433d3",
   "metadata": {},
   "outputs": [
    {
     "data": {
      "text/plain": [
       "{'adulte': [22], 'mineur': [5, 14]}"
      ]
     },
     "execution_count": 4,
     "metadata": {},
     "output_type": "execute_result"
    }
   ],
   "source": [
    "trier(age, 22)"
   ]
  },
  {
   "cell_type": "markdown",
   "id": "77d549f1",
   "metadata": {},
   "source": [
    "## **<span style=\"color:#1c4587;\">Exo 3</span>**"
   ]
  },
  {
   "cell_type": "markdown",
   "id": "d7359f75",
   "metadata": {},
   "source": [
    "Le code ci-dessous permet de créer un fichier qui contient les nombres carrée de 0 jusqu'a 5.\n",
    "\n",
    "Implémente un code qui permet de lire ce fichier et d'écrire chaque ligne dans une liste.    \n",
    "    \n",
    "**`ASTUCES` :**\n",
    "\n",
    "**La fonction *read().splitlines()* sera tres utile**\n",
    "\n",
    "**Pour un meilleur résultat, essayer d'utiliser une liste comprehension**\n",
    "\n",
    "**Ce bout de code permet d'écrire le fichier**"
   ]
  },
  {
   "cell_type": "code",
   "execution_count": 5,
   "id": "cda82a69",
   "metadata": {},
   "outputs": [],
   "source": [
    "with open('fichier.txt', 'w') as f:\n",
    "    for i in range(0, 6):\n",
    "        f.write(f'{i}: {i**2} \\n')\n",
    "    f.close()"
   ]
  },
  {
   "cell_type": "code",
   "execution_count": 11,
   "id": "f0ad52cf",
   "metadata": {},
   "outputs": [
    {
     "data": {
      "text/plain": [
       "['0: 0 ', '1: 1 ', '2: 4 ', '3: 9 ', '4: 16 ', '5: 25 ']"
      ]
     },
     "execution_count": 11,
     "metadata": {},
     "output_type": "execute_result"
    }
   ],
   "source": [
    "with open('fichier.txt','r') as f:\n",
    "    liste = f.read().splitlines()\n",
    "\n",
    "liste"
   ]
  },
  {
   "cell_type": "code",
   "execution_count": 14,
   "id": "4068ae8b",
   "metadata": {},
   "outputs": [
    {
     "data": {
      "text/plain": [
       "['0: 0', '1: 1', '2: 4', '3: 9', '4: 16', '5: 25']"
      ]
     },
     "execution_count": 14,
     "metadata": {},
     "output_type": "execute_result"
    }
   ],
   "source": []
  },
  {
   "cell_type": "markdown",
   "id": "bfe774eb",
   "metadata": {},
   "source": [
    "<a href=\"#toc\" role=\"button\" aria-pressed=\"true\" >⬆️Back to Table of Contents ⬆️</a>"
   ]
  },
  {
   "cell_type": "code",
   "execution_count": null,
   "id": "b87cfdd4",
   "metadata": {},
   "outputs": [],
   "source": []
  }
 ],
 "metadata": {
  "kernelspec": {
   "display_name": "Python 3 (ipykernel)",
   "language": "python",
   "name": "python3"
  },
  "language_info": {
   "codemirror_mode": {
    "name": "ipython",
    "version": 3
   },
   "file_extension": ".py",
   "mimetype": "text/x-python",
   "name": "python",
   "nbconvert_exporter": "python",
   "pygments_lexer": "ipython3",
   "version": "3.9.7"
  }
 },
 "nbformat": 4,
 "nbformat_minor": 5
}
